{
 "cells": [
  {
   "cell_type": "code",
   "execution_count": 37,
   "metadata": {},
   "outputs": [],
   "source": [
    "import re, textract, pickle"
   ]
  },
  {
   "cell_type": "code",
   "execution_count": 38,
   "metadata": {},
   "outputs": [
    {
     "data": {
      "text/plain": [
       "['N°\\xa00007-unlocked.pdf',\n",
       " 'N°\\xa00006-unlocked.pdf',\n",
       " 'N°\\xa00009-unlocked.pdf',\n",
       " 'N°\\xa00005-unlocked.pdf',\n",
       " 'N°\\xa00004-unlocked.pdf']"
      ]
     },
     "execution_count": 38,
     "metadata": {},
     "output_type": "execute_result"
    }
   ],
   "source": [
    "# STEP 1: Get file names\n",
    "\n",
    "# in folder, click on tiny gear icon on top of the window, then select Copy \"\" pathname\n",
    "path = '/Volumes/BackupWD2/CbCM data/Luxembourg Archive/2013_unlocked/'\n",
    "#path = '/home/op/kernel/thesis/data/cbm/pdfs/' # Oskar's path\n",
    "# a package for navigating the operating system (just as from terminal)\n",
    "import os\n",
    "# start with empty list\n",
    "file_names = []\n",
    "# iterate through all file names found in that path\n",
    "for file in os.listdir(path):\n",
    "    # append all files names to a list\n",
    "    if file[0]!='.' and file[-3:]=='pdf': #to handle issue with hidden files and non-pdf files\n",
    "        file_names.append(file)\n",
    "file_names"
   ]
  },
  {
   "cell_type": "code",
   "execution_count": 39,
   "metadata": {},
   "outputs": [],
   "source": [
    "# Step 2: Extract text from PDFs and save it to a pickle archive\n",
    "extracted_pdfs = []\n",
    "                  \n",
    "for file_name in file_names: \n",
    "    text = str(textract.process(path+file_name))\n",
    "    # each extracted text is saved in a dictionary under a key called file_name\n",
    "    triple = [file_name, None, text] # just pack it all together\n",
    "    extracted_pdfs.append(triple) # None is a placeholder for search results\n",
    "    # after each extraction, overwrite a pickle archive\n",
    "    pickle.dump(extracted_pdfs,open(path+'extracted_pdfs.pickle','wb'))"
   ]
  },
  {
   "cell_type": "code",
   "execution_count": 33,
   "metadata": {},
   "outputs": [],
   "source": [
    "# OPTIONAL STEP to read from pickle\n",
    "file_names, extracted_pdfs = pickle.load(open(path+'extracted_pdfs.pickle','rb'))"
   ]
  },
  {
   "cell_type": "code",
   "execution_count": 48,
   "metadata": {},
   "outputs": [
    {
     "name": "stdout",
     "output_type": "stream",
     "text": [
      "N° 0007-unlocked.pdf  =  550\n",
      "N° 0006-unlocked.pdf  =  418\n",
      "N° 0009-unlocked.pdf  =  520\n",
      "N° 0005-unlocked.pdf  =  571\n",
      "N° 0004-unlocked.pdf  =  575\n"
     ]
    }
   ],
   "source": [
    "# Step 3: Find the patters\n",
    "for i in range(0,len(extracted_pdfs)):#'projet de fusion'\n",
    "    text = extracted_pdfs[i][2] # iterating through all triples i, fetch text\n",
    "    search = re.findall('les', text) \n",
    "    # NOTE: this search result contains more interesting info https://developers.google.com/edu/python/regular-expressions\n",
    "    extracted_pdfs[i][1]=len(search)\n",
    "    print(extracted_pdfs[i][0], ' = ',len(search))\n",
    "    pickle.dump(extracted_pdfs,open(path+'extracted_pdfs.pickle','wb'))\n",
    "# sort the final list\n",
    "from operator import itemgetter\n",
    "extracted_pdfs = sorted(extracted_pdfs, key=itemgetter(1), reverse=True)\n",
    "pickle.dump(extracted_pdfs,open(path+'extracted_pdfs.pickle','wb'))"
   ]
  },
  {
   "cell_type": "code",
   "execution_count": 57,
   "metadata": {},
   "outputs": [],
   "source": [
    "# Step 4: Copy files with more than 0 keywords to a new folder\n",
    "new_folder_name = 'students'\n",
    "if os.path.exists(path+new_folder_name)==False:\n",
    "    os.makedirs(path+new_folder_name)\n",
    "    \n",
    "from shutil import copyfile\n",
    "for triple in sorted_pdfs:\n",
    "    if triple[1]>0:\n",
    "        copyfile(path+triple[0],path+new_folder_name+'/'+triple[0])"
   ]
  }
 ],
 "metadata": {
  "kernelspec": {
   "display_name": "Python 3",
   "language": "python",
   "name": "python3"
  },
  "language_info": {
   "codemirror_mode": {
    "name": "ipython",
    "version": 3
   },
   "file_extension": ".py",
   "mimetype": "text/x-python",
   "name": "python",
   "nbconvert_exporter": "python",
   "pygments_lexer": "ipython3",
   "version": "3.7.3"
  }
 },
 "nbformat": 4,
 "nbformat_minor": 2
}
