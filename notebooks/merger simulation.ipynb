{
 "cells": [
  {
   "cell_type": "code",
   "execution_count": null,
   "metadata": {},
   "outputs": [],
   "source": [
    "# from https://janboone.github.io/competition_policy_and_regulation/Mergers/Mergers.html"
   ]
  },
  {
   "cell_type": "code",
   "execution_count": 12,
   "metadata": {},
   "outputs": [
    {
     "ename": "KeyboardInterrupt",
     "evalue": "",
     "output_type": "error",
     "traceback": [
      "\u001b[0;31m------------------------------------------------------------------------\u001b[0m",
      "\u001b[0;31mKeyboardInterrupt\u001b[0m                      Traceback (most recent call last)",
      "\u001b[0;32m<ipython-input-12-0a1b47df0be6>\u001b[0m in \u001b[0;36m<module>\u001b[0;34m\u001b[0m\n\u001b[1;32m      2\u001b[0m \u001b[0;32mfor\u001b[0m \u001b[0mn\u001b[0m \u001b[0;32min\u001b[0m \u001b[0mrange\u001b[0m\u001b[0;34m(\u001b[0m\u001b[0;36m2\u001b[0m\u001b[0;34m,\u001b[0m\u001b[0;36m7600000000\u001b[0m\u001b[0;34m)\u001b[0m\u001b[0;34m:\u001b[0m\u001b[0;34m\u001b[0m\u001b[0;34m\u001b[0m\u001b[0m\n\u001b[1;32m      3\u001b[0m     \u001b[0;31m#total vertices\u001b[0m\u001b[0;34m\u001b[0m\u001b[0;34m\u001b[0m\u001b[0;34m\u001b[0m\u001b[0m\n\u001b[0;32m----> 4\u001b[0;31m     \u001b[0mtotal_edges\u001b[0m \u001b[0;34m=\u001b[0m \u001b[0mint\u001b[0m\u001b[0;34m(\u001b[0m\u001b[0;34m(\u001b[0m\u001b[0mn\u001b[0m\u001b[0;34m*\u001b[0m\u001b[0;34m(\u001b[0m\u001b[0mn\u001b[0m\u001b[0;34m-\u001b[0m\u001b[0;36m1\u001b[0m\u001b[0;34m)\u001b[0m\u001b[0;34m)\u001b[0m\u001b[0;34m/\u001b[0m\u001b[0;36m2\u001b[0m\u001b[0;34m)\u001b[0m\u001b[0;34m\u001b[0m\u001b[0;34m\u001b[0m\u001b[0m\n\u001b[0m\u001b[1;32m      5\u001b[0m     \u001b[0mmax_cut\u001b[0m \u001b[0;34m=\u001b[0m \u001b[0mmath\u001b[0m\u001b[0;34m.\u001b[0m\u001b[0mfloor\u001b[0m\u001b[0;34m(\u001b[0m\u001b[0mn\u001b[0m\u001b[0;34m/\u001b[0m\u001b[0;36m2\u001b[0m\u001b[0;34m)\u001b[0m\u001b[0;34m*\u001b[0m\u001b[0mmath\u001b[0m\u001b[0;34m.\u001b[0m\u001b[0mceil\u001b[0m\u001b[0;34m(\u001b[0m\u001b[0mn\u001b[0m\u001b[0;34m/\u001b[0m\u001b[0;36m2\u001b[0m\u001b[0;34m)\u001b[0m\u001b[0;34m\u001b[0m\u001b[0;34m\u001b[0m\u001b[0m\n\u001b[1;32m      6\u001b[0m \u001b[0mprint\u001b[0m\u001b[0;34m(\u001b[0m\u001b[0mn\u001b[0m\u001b[0;34m,\u001b[0m \u001b[0mtotal_edges\u001b[0m\u001b[0;34m,\u001b[0m \u001b[0mmax_cut\u001b[0m\u001b[0;34m,\u001b[0m \u001b[0mmax_cut\u001b[0m\u001b[0;34m/\u001b[0m\u001b[0mtotal_edges\u001b[0m\u001b[0;34m)\u001b[0m\u001b[0;34m\u001b[0m\u001b[0;34m\u001b[0m\u001b[0m\n",
      "\u001b[0;31mKeyboardInterrupt\u001b[0m: "
     ]
    }
   ],
   "source": [
    "import math\n",
    "for n in range(2,7600000000):\n",
    "    #total vertices\n",
    "    total_edges = int((n*(n-1))/2)\n",
    "    max_cut = math.floor(n/2)*math.ceil(n/2)\n",
    "print(n, total_edges, max_cut, max_cut/total_edges)"
   ]
  },
  {
   "cell_type": "code",
   "execution_count": 15,
   "metadata": {},
   "outputs": [
    {
     "name": "stdout",
     "output_type": "stream",
     "text": [
      "7600000000 28879999996200001536 14440000000000000000 0.5000000000657895\n"
     ]
    },
    {
     "data": {
      "text/plain": [
       "2.88799999962e+19"
      ]
     },
     "execution_count": 15,
     "metadata": {},
     "output_type": "execute_result"
    }
   ],
   "source": [
    "n=7600000000\n",
    "total_edges = int((n*(n-1))/2)\n",
    "max_cut = math.floor(n/2)*math.ceil(n/2)\n",
    "print(n, total_edges, max_cut, max_cut/total_edges)\n",
    "float(total_edges)"
   ]
  },
  {
   "cell_type": "code",
   "execution_count": 1,
   "metadata": {},
   "outputs": [],
   "source": [
    "from scipy import optimize,arange\n",
    "from numpy import array\n",
    "import matplotlib.pyplot as plt\n",
    "from math import log\n",
    "%matplotlib inline"
   ]
  },
  {
   "cell_type": "code",
   "execution_count": 2,
   "metadata": {},
   "outputs": [],
   "source": [
    "class ListTable(list):\n",
    "    \"\"\" Overridden list class which takes a 2-dimensional list of\n",
    "        the form [[1,2,3],[4,5,6]], and renders an HTML Table in\n",
    "        IPython Notebook. \"\"\"\n",
    "\n",
    "    def _repr_html_(self):\n",
    "        html = [\"<table>\"]\n",
    "        for row in self:\n",
    "            html.append(\"<tr>\")\n",
    "\n",
    "            for col in row:\n",
    "                html.append(\"<td>{0}</td>\".format(col))\n",
    "\n",
    "            html.append(\"</tr>\")\n",
    "        html.append(\"</table>\")\n",
    "        return ''.join(html)"
   ]
  },
  {
   "cell_type": "code",
   "execution_count": 4,
   "metadata": {},
   "outputs": [
    {
     "name": "stdout",
     "output_type": "stream",
     "text": [
      "market share of firm: firm1 is given by 0.20\n",
      "market share of firm: firm2 is given by 0.30\n",
      "market share of firm: firm3 is given by 0.50\n"
     ]
    }
   ],
   "source": [
    "market_share = {} # creates a dictionary with market shares\n",
    "elasticity = {}   # dictionaries of firm level own and cross elasticities\n",
    "\n",
    "firms = ['firm1','firm2','firm3'] # names of the firms in a python list\n",
    "market_share['firm2'] = 0.3\n",
    "market_share['firm3'] = 0.5\n",
    "market_share['firm1'] = 1 - sum(market_share[firm] for firm in ['firm2','firm3'])\n",
    "\n",
    "for firm in firms:\n",
    "    if (market_share[firm] >= 0 and market_share[firm] <= 1):\n",
    "        print(\"market share of firm: \"+ firm + \" is given by %1.2f\" % market_share[firm])\n",
    "    else: print(\"something wrong with the market share of the firm: \"+firm)\n",
    "\n",
    "market_elasticity = -1.0 # market demand elasticity\n",
    "elasticity['firm1','firm1'] = -3.0 # own elasticity of firm1\n",
    "\n",
    "if market_elasticity < elasticity['firm1','firm1']:\n",
    "    print(\"error: a firm's own elasticity exceeds (in absolute value) the market elasticity\")\n"
   ]
  },
  {
   "cell_type": "code",
   "execution_count": 5,
   "metadata": {},
   "outputs": [
    {
     "name": "stdout",
     "output_type": "stream",
     "text": [
      "table of b coefficients:\n"
     ]
    },
    {
     "data": {
      "text/html": [
       "<table><tr><td>b-coeff.</td><td>firm1</td><td>firm2</td><td>firm3</td></tr><tr><td>firm1</td><td>-0.400</td><td>0.150</td><td>0.250</td></tr><tr><td>firm2</td><td>0.150</td><td>-0.525</td><td>0.375</td></tr><tr><td>firm3</td><td>0.250</td><td>0.375</td><td>-0.625</td></tr></table>"
      ],
      "text/plain": [
       "[['b-coeff.', 'firm1', 'firm2', 'firm3'],\n",
       " ['firm1', '-0.400', '0.150', '0.250'],\n",
       " ['firm2', '0.150', '-0.525', '0.375'],\n",
       " ['firm3', '0.250', '0.375', '-0.625']]"
      ]
     },
     "execution_count": 5,
     "metadata": {},
     "output_type": "execute_result"
    }
   ],
   "source": [
    "b = {} # dictionary of b-coefficients of demand system (D) above\n",
    "b['firm1','firm1'] = market_share['firm1']*(elasticity['firm1','firm1']+1-market_share['firm1']*(market_elasticity+1))\n",
    "\n",
    "for firm in firms:\n",
    "    b[firm,firm]=(market_share[firm]*(1-market_share[firm]))/(market_share['firm1']*(1-market_share['firm1']))*b['firm1','firm1']\n",
    "\n",
    "for one_firm in firms:\n",
    "    for other_firm in firms:\n",
    "        if one_firm == other_firm:\n",
    "            b[one_firm,one_firm]=(market_share[one_firm]*(1-market_share[one_firm]))/(market_share['firm1']*(1-market_share['firm1']))*b['firm1','firm1']\n",
    "        else:\n",
    "            b[one_firm,other_firm] = - market_share[one_firm]/(1-market_share[other_firm])*b[other_firm,other_firm]\n",
    "\n",
    "for one_firm in firms:\n",
    "    for other_firm in firms:\n",
    "        if one_firm == other_firm:\n",
    "            elasticity[one_firm,one_firm] = -1 + b[one_firm,one_firm]/market_share[one_firm]+market_share[one_firm]*(market_elasticity+1)\n",
    "        else:\n",
    "            elasticity[one_firm,other_firm] = b[one_firm,other_firm]/market_share[one_firm]+market_share[other_firm]*(market_elasticity+1)\n",
    "\n",
    "table = ListTable()\n",
    "table.append(['b-coeff.', 'firm1','firm2','firm3'])\n",
    "for one_firm in firms:\n",
    "    row = []\n",
    "    row.append(one_firm)\n",
    "    for other_firm in firms:\n",
    "        row.append(\"%0.3f\" % b[one_firm,other_firm])\n",
    "    table.append(row)\n",
    "print(\"table of b coefficients:\")\n",
    "table"
   ]
  },
  {
   "cell_type": "code",
   "execution_count": 6,
   "metadata": {},
   "outputs": [
    {
     "name": "stdout",
     "output_type": "stream",
     "text": [
      "table of elasticities:\n"
     ]
    },
    {
     "data": {
      "text/html": [
       "<table><tr><td>elast.</td><td>firm1</td><td>firm2</td><td>firm3</td></tr><tr><td>firm1</td><td>-3.000</td><td>0.750</td><td>1.250</td></tr><tr><td>firm2</td><td>0.500</td><td>-2.750</td><td>1.250</td></tr><tr><td>firm3</td><td>0.500</td><td>0.750</td><td>-2.250</td></tr></table>"
      ],
      "text/plain": [
       "[['elast.', 'firm1', 'firm2', 'firm3'],\n",
       " ['firm1', '-3.000', '0.750', '1.250'],\n",
       " ['firm2', '0.500', '-2.750', '1.250'],\n",
       " ['firm3', '0.500', '0.750', '-2.250']]"
      ]
     },
     "execution_count": 6,
     "metadata": {},
     "output_type": "execute_result"
    }
   ],
   "source": [
    "table = ListTable()\n",
    "table.append(['elast.', 'firm1','firm2','firm3'])\n",
    "for one_firm in firms:\n",
    "    row = []\n",
    "    row.append(one_firm)\n",
    "    for other_firm in firms:\n",
    "        row.append(\"%0.3f\" % elasticity[one_firm,other_firm])\n",
    "    table.append(row)\n",
    "print(\"table of elasticities:\")\n",
    "table"
   ]
  },
  {
   "cell_type": "code",
   "execution_count": null,
   "metadata": {},
   "outputs": [],
   "source": []
  }
 ],
 "metadata": {
  "kernelspec": {
   "display_name": "Python 3",
   "language": "python",
   "name": "python3"
  },
  "language_info": {
   "codemirror_mode": {
    "name": "ipython",
    "version": 3
   },
   "file_extension": ".py",
   "mimetype": "text/x-python",
   "name": "python",
   "nbconvert_exporter": "python",
   "pygments_lexer": "ipython3",
   "version": "3.7.3"
  }
 },
 "nbformat": 4,
 "nbformat_minor": 2
}
