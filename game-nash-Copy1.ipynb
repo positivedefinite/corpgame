{
 "cells": [
  {
   "cell_type": "code",
   "execution_count": 56,
   "metadata": {},
   "outputs": [],
   "source": [
    "import matplotlib.pyplot as plt\n",
    "import networkx as nx\n",
    "\n",
    " # positions for all nodes\n",
    "payoff = {'000': [0, 0, 0],\n",
    " '001': [1, 0, -1],\n",
    " '010': [1, 0, -1],\n",
    " '011': [2, -1, -1],\n",
    " '100': [0, 0, 0],\n",
    " '101': [0, 0, 0],\n",
    " '110': [-1, 0, 1],\n",
    " '111': [0, 0, 0]}\n",
    "# nodes\n",
    "def draw_states(payoff):\n",
    "    #G = nx.cubical_graph()\n",
    "    G= nx.DiGraph()\n",
    "    for key in payoff:\n",
    "        G.add_node(key)\n",
    "    pos = nx.spring_layout(G) \n",
    "    nx.draw_networkx_nodes(G, pos,\n",
    "                           #nodelist=[0, 1, 2, 3],\n",
    "                           node_color='w',\n",
    "                           node_size=2000,\n",
    "                           alpha=0.8)\n",
    "    # some math labels\n",
    "    labels = {}\n",
    "    for i, key in enumerate(payoff):\n",
    "        labels[key] = key+'\\n'+str(payoff[key])\n",
    "    nx.draw_networkx_labels(G, pos, labels, font_size=10)\n",
    "    #for each strategy, check if outgoing improves. If so, add edge\n",
    "    for i, profile in enumerate(payoff):\n",
    "        for j, strategy in enumerate(profile):\n",
    "            deviation = list(profile)\n",
    "            deviation[j] = str(1-int(strategy))\n",
    "            deviation = ''.join(deviation)\n",
    "            if payoff[profile][j]>payoff[deviation][j]:\n",
    "                print(j, profile, payoff[profile], deviation, payoff[deviation])\n",
    "                G.add_edge(profile,deviation,player=j)\n",
    "\n",
    "    cmap = {\n",
    "        0: 'r',\n",
    "        1: 'g',\n",
    "        2: 'b'\n",
    "    }\n",
    "\n",
    "    for edge in G.edges():\n",
    "        player = G[edge[0]][edge[1]]['player']\n",
    "        print(edge, cmap[player])\n",
    "        nx.draw_networkx_edges(G, pos,\n",
    "                           edgelist=[edge],\n",
    "                               arrows=True,\n",
    "                           width=12, edge_color=cmap[player])\n",
    "\n",
    "    print(nx.is_directed_acyclic_graph(G))\n",
    "    plt.axis('off')\n",
    "    plt.show()"
   ]
  },
  {
   "cell_type": "code",
   "execution_count": 41,
   "metadata": {},
   "outputs": [
    {
     "data": {
      "text/plain": [
       "2"
      ]
     },
     "execution_count": 41,
     "metadata": {},
     "output_type": "execute_result"
    }
   ],
   "source": [
    "G['000']['001']['player']"
   ]
  },
  {
   "cell_type": "code",
   "execution_count": 59,
   "metadata": {},
   "outputs": [
    {
     "name": "stdout",
     "output_type": "stream",
     "text": [
      "2 000 [0, 0, 0] 001 [1, 0, -1]\n",
      "0 001 [1, 0, -1] 101 [0, 0, 0]\n",
      "1 001 [1, 0, -1] 011 [2, -1, -1]\n",
      "0 010 [1, 0, -1] 110 [0, 0, 0]\n",
      "0 011 [2, -1, -1] 111 [0, 0, 0]\n",
      "('000', '001') b\n",
      "('001', '101') r\n",
      "('001', '011') g\n",
      "('010', '110') r\n",
      "('011', '111') r\n",
      "True\n"
     ]
    },
    {
     "data": {
      "image/png": "[encoded data removed]",
      "text/plain": [
       "<Figure size 432x288 with 1 Axes>"
      ]
     },
     "metadata": {},
     "output_type": "display_data"
    }
   ],
   "source": [
    "from corpgame import Game\n",
    "game = Game(input_population = [[3, 0], [1, 2], [2, 2]])\n",
    "game.get_payoffs()\n",
    "draw_states(game.payoff)"
   ]
  },
  {
   "cell_type": "code",
   "execution_count": 8,
   "metadata": {},
   "outputs": [
    {
     "name": "stdout",
     "output_type": "stream",
     "text": [
      "Size  1 2\n",
      "Size  2 4\n",
      "Size  3 6\n",
      "5 [[7, 4], [3, 1], [7, 6], [4, 7]]\n",
      "Player  0 [7, 4]  score  11\n",
      "Player  1 [3, 1]  score  4\n",
      "Player  2 [7, 6]  score  13\n",
      "Player  3 [4, 7]  score  11\n",
      "Nash: 0000  with payoff  [0, 0, 0, 0]\n",
      "Nash: 0001  with payoff  [0, 0, 0, 0]\n",
      "Nash: 0010  with payoff  [0, 0, 0, 0]\n",
      "Nash: 0100  with payoff  [0, 0, 0, 0]\n",
      "Nash: 0101  with payoff  [0, 0, 0, 0]\n",
      "Nash: 0110  with payoff  [0, 0, 0, 0]\n",
      "Nash: 1000  with payoff  [0, 0, 0, 0]\n",
      "Nash: 1100  with payoff  [0, 0, 0, 0]\n",
      "Size  4 8\n",
      "5 [[5, 3], [5, 8], [11, 9], [6, 5], [10, 1]]\n",
      "Player  0 [5, 3]  score  8\n",
      "Player  1 [5, 8]  score  13\n",
      "Player  2 [11, 9]  score  20\n",
      "Player  3 [6, 5]  score  11\n",
      "Player  4 [10, 1]  score  11\n",
      "Nash: 00000  with payoff  [0, 0, 0, 0, 0]\n",
      "Nash: 00001  with payoff  [0, 0, 0, 0, 0]\n",
      "Nash: 00010  with payoff  [0, 0, 0, 0, 0]\n",
      "Nash: 00011  with payoff  [0, 0, 0, 0, 0]\n",
      "Nash: 00100  with payoff  [0, 0, 0, 0, 0]\n",
      "Nash: 00101  with payoff  [0, 0, 0, 0, 0]\n",
      "Nash: 01000  with payoff  [0, 0, 0, 0, 0]\n",
      "Nash: 01001  with payoff  [0, 0, 0, 0, 0]\n",
      "Nash: 10000  with payoff  [0, 0, 0, 0, 0]\n",
      "Nash: 10001  with payoff  [0, 0, 0, 0, 0]\n",
      "Size  5 5\n",
      "5 [[11, 1], [0, 10], [8, 7], [8, 5], [5, 5], [10, 0]]\n",
      "Player  0 [11, 1]  score  12\n",
      "Player  1 [0, 10]  score  10\n",
      "Player  2 [8, 7]  score  15\n",
      "Player  3 [8, 5]  score  13\n",
      "Player  4 [5, 5]  score  10\n",
      "Player  5 [10, 0]  score  10\n",
      "Nash: 010000  with payoff  [-1, 4, -1, -1, -1, 0]\n",
      "Nash: 110000  with payoff  [-1, 3, -1, -1, -1, 1]\n",
      "10 [[4, 7], [4, 6], [0, 6], [7, 1], [5, 3], [0, 2]]\n",
      "Player  0 [4, 7]  score  11\n",
      "Player  1 [4, 6]  score  10\n",
      "Player  2 [0, 6]  score  6\n",
      "Player  3 [7, 1]  score  8\n",
      "Player  4 [5, 3]  score  8\n",
      "Player  5 [0, 2]  score  2\n",
      "Nash: 111000  with payoff  [0, -1, 1, 1, -1, 0]\n",
      "Nash: 111001  with payoff  [0, -1, 1, 1, -1, 0]\n",
      "Size  6 2\n",
      "5 [[4, 1], [2, 8], [4, 0], [2, 10], [1, 3], [2, 0], [1, 7]]\n",
      "Player  0 [4, 1]  score  5\n",
      "Player  1 [2, 8]  score  10\n",
      "Player  2 [4, 0]  score  4\n",
      "Player  3 [2, 10]  score  12\n",
      "Player  4 [1, 3]  score  4\n",
      "Player  5 [2, 0]  score  2\n",
      "Player  6 [1, 7]  score  8\n",
      "Nash: 0101101  with payoff  [3, -2, 2, -1, -1, 0, -1]\n",
      "10 [[10, 4], [3, 0], [3, 1], [11, 6], [0, 7], [10, 3], [1, 1]]\n",
      "Player  0 [10, 4]  score  14\n",
      "Player  1 [3, 0]  score  3\n",
      "Player  2 [3, 1]  score  4\n",
      "Player  3 [11, 6]  score  17\n",
      "Player  4 [0, 7]  score  7\n",
      "Player  5 [10, 3]  score  13\n",
      "Player  6 [1, 1]  score  2\n",
      "Nash: 0000111  with payoff  [-2, 1, 0, -1, 3, -2, 1]\n",
      "Nash: 1000101  with payoff  [-2, 1, 0, -1, 3, -2, 1]\n",
      "Size  7 0\n",
      "5 [[10, 6], [1, 10], [1, 6], [7, 10], [8, 8], [8, 6], [8, 8], [11, 5]]\n",
      "Player  0 [10, 6]  score  16\n",
      "Player  1 [1, 10]  score  11\n",
      "Player  2 [1, 6]  score  7\n",
      "Player  3 [7, 10]  score  17\n",
      "Player  4 [8, 8]  score  16\n",
      "Player  5 [8, 6]  score  14\n",
      "Player  6 [8, 8]  score  16\n",
      "Player  7 [11, 5]  score  16\n",
      "Nash: 10011111  with payoff  [0, 0, 0, 0, 0, 0, 0, 0]\n",
      "Nash: 11011110  with payoff  [0, 1, -1, 0, 0, -1, 0, 1]\n",
      "Nash: 11111110  with payoff  [0, 0, -1, 0, 0, -1, 0, 2]\n",
      "10 [[2, 10], [9, 1], [10, 8], [0, 8], [7, 9], [8, 6], [2, 4], [10, 4]]\n",
      "Player  0 [2, 10]  score  12\n",
      "Player  1 [9, 1]  score  10\n",
      "Player  2 [10, 8]  score  18\n",
      "Player  3 [0, 8]  score  8\n",
      "Player  4 [7, 9]  score  16\n",
      "Player  5 [8, 6]  score  14\n",
      "Player  6 [2, 4]  score  6\n",
      "Player  7 [10, 4]  score  14\n",
      "Nash: 10011110  with payoff  [1, 1, -1, 2, -1, -1, -1, 0]\n",
      "15 [[11, 6], [9, 4], [5, 7], [4, 6], [2, 1], [10, 0], [9, 10], [8, 0]]\n",
      "Player  0 [11, 6]  score  17\n",
      "Player  1 [9, 4]  score  13\n",
      "Player  2 [5, 7]  score  12\n",
      "Player  3 [4, 6]  score  10\n",
      "Player  4 [2, 1]  score  3\n",
      "Player  5 [10, 0]  score  10\n",
      "Player  6 [9, 10]  score  19\n",
      "Player  7 [8, 0]  score  8\n",
      "Nash: 00011000  with payoff  [0, -1, -2, 0, 2, 2, -1, 0]\n",
      "Nash: 00111000  with payoff  [0, -1, -2, -1, 1, 3, -1, 1]\n",
      "Size  8 3\n",
      "5 [[2, 5], [2, 0], [2, 5], [11, 6], [8, 0], [4, 1], [1, 1], [6, 2], [3, 3]]\n",
      "Player  0 [2, 5]  score  7\n",
      "Player  1 [2, 0]  score  2\n",
      "Player  2 [2, 5]  score  7\n",
      "Player  3 [11, 6]  score  17\n",
      "Player  4 [8, 0]  score  8\n",
      "Player  5 [4, 1]  score  5\n",
      "Player  6 [1, 1]  score  2\n",
      "Player  7 [6, 2]  score  8\n",
      "Player  8 [3, 3]  score  6\n",
      "Nash: 101000101  with payoff  [1, 0, 0, 0, 3, -1, 0, -1, -2]\n",
      "10 [[6, 1], [4, 1], [4, 7], [5, 1], [0, 3], [6, 7], [9, 9], [5, 10], [11, 10]]\n",
      "Player  0 [6, 1]  score  7\n",
      "Player  1 [4, 1]  score  5\n",
      "Player  2 [4, 7]  score  11\n",
      "Player  3 [5, 1]  score  6\n",
      "Player  4 [0, 3]  score  3\n",
      "Player  5 [6, 7]  score  13\n",
      "Player  6 [9, 9]  score  18\n",
      "Player  7 [5, 10]  score  15\n",
      "Player  8 [11, 10]  score  21\n",
      "Nash: 000010001  with payoff  [0, 0, -1, 0, 4, -1, -1, -1, 0]\n",
      "Nash: 001010001  with payoff  [1, 0, -1, 0, 3, -1, -1, -1, 0]\n",
      "15 [[1, 8], [0, 6], [5, 7], [2, 1], [9, 8], [5, 2], [6, 3], [7, 2], [9, 7]]\n",
      "Player  0 [1, 8]  score  9\n",
      "Player  1 [0, 6]  score  6\n",
      "Player  2 [5, 7]  score  12\n",
      "Player  3 [2, 1]  score  3\n",
      "Player  4 [9, 8]  score  17\n",
      "Player  5 [5, 2]  score  7\n",
      "Player  6 [6, 3]  score  9\n",
      "Player  7 [7, 2]  score  9\n",
      "Player  8 [9, 7]  score  16\n",
      "Nash: 110010000  with payoff  [4, 3, -2, 0, 0, -1, -2, -1, -1]\n",
      "20 [[5, 6], [0, 4], [1, 0], [6, 9], [4, 7], [8, 1], [0, 6], [1, 6], [11, 7]]\n",
      "Player  0 [5, 6]  score  11\n",
      "Player  1 [0, 4]  score  4\n",
      "Player  2 [1, 0]  score  1\n",
      "Player  3 [6, 9]  score  15\n",
      "Player  4 [4, 7]  score  11\n",
      "Player  5 [8, 1]  score  9\n",
      "Player  6 [0, 6]  score  6\n",
      "Player  7 [1, 6]  score  7\n",
      "Player  8 [11, 7]  score  18\n",
      "Nash: 110110110  with payoff  [-2, 1, 3, -1, -2, 2, 1, 0, -2]\n",
      "Nash: 110110111  with payoff  [-2, 0, 4, -1, -2, 4, 0, -1, -2]\n",
      "Size  9 2\n",
      "5 [[9, 3], [7, 2], [8, 1], [4, 2], [5, 0], [10, 8], [7, 7], [0, 8], [11, 6], [5, 9]]\n",
      "Player  0 [9, 3]  score  12\n",
      "Player  1 [7, 2]  score  9\n",
      "Player  2 [8, 1]  score  9\n",
      "Player  3 [4, 2]  score  6\n",
      "Player  4 [5, 0]  score  5\n",
      "Player  5 [10, 8]  score  18\n",
      "Player  6 [7, 7]  score  14\n",
      "Player  7 [0, 8]  score  8\n",
      "Player  8 [11, 6]  score  17\n",
      "Player  9 [5, 9]  score  14\n",
      "Nash: 0001000101  with payoff  [-1, -2, 1, 0, 0, -1, -2, 5, -1, 1]\n",
      "Nash: 0101000101  with payoff  [0, -2, 2, -1, 1, -1, -2, 4, -1, 0]\n"
     ]
    },
    {
     "ename": "KeyboardInterrupt",
     "evalue": "",
     "output_type": "error",
     "traceback": [
      "\u001b[0;31m---------------------------------------------------------------------------\u001b[0m",
      "\u001b[0;31mKeyboardInterrupt\u001b[0m                         Traceback (most recent call last)",
      "\u001b[0;32m<ipython-input-8-16b2b3d28140>\u001b[0m in \u001b[0;36m<module>\u001b[0;34m\u001b[0m\n\u001b[1;32m     16\u001b[0m         \u001b[0mgame\u001b[0m \u001b[0;34m=\u001b[0m \u001b[0mGame\u001b[0m\u001b[0;34m(\u001b[0m\u001b[0;34m)\u001b[0m\u001b[0;34m\u001b[0m\u001b[0;34m\u001b[0m\u001b[0m\n\u001b[1;32m     17\u001b[0m         \u001b[0;31m# show nash equilibria for starting conditions\u001b[0m\u001b[0;34m\u001b[0m\u001b[0;34m\u001b[0m\u001b[0;34m\u001b[0m\u001b[0m\n\u001b[0;32m---> 18\u001b[0;31m         \u001b[0mgame\u001b[0m\u001b[0;34m(\u001b[0m\u001b[0mstate\u001b[0m\u001b[0;34m=\u001b[0m\u001b[0ms\u001b[0m\u001b[0;34m)\u001b[0m\u001b[0;34m\u001b[0m\u001b[0;34m\u001b[0m\u001b[0m\n\u001b[0m\u001b[1;32m     19\u001b[0m         \u001b[0mgame\u001b[0m\u001b[0;34m.\u001b[0m\u001b[0mget_nash\u001b[0m\u001b[0;34m(\u001b[0m\u001b[0;34m)\u001b[0m\u001b[0;34m\u001b[0m\u001b[0;34m\u001b[0m\u001b[0m\n\u001b[1;32m     20\u001b[0m         \u001b[0mnum_nash\u001b[0m \u001b[0;34m=\u001b[0m \u001b[0;36m0\u001b[0m\u001b[0;34m\u001b[0m\u001b[0;34m\u001b[0m\u001b[0m\n",
      "\u001b[0;32m~/kernel/thesis/code/corpgame/corpgame.py\u001b[0m in \u001b[0;36m__call__\u001b[0;34m(self, state)\u001b[0m\n\u001b[1;32m    226\u001b[0m     \u001b[0;32mdef\u001b[0m \u001b[0m__call__\u001b[0m\u001b[0;34m(\u001b[0m\u001b[0mself\u001b[0m\u001b[0;34m,\u001b[0m \u001b[0mstate\u001b[0m\u001b[0;34m=\u001b[0m\u001b[0;34m[\u001b[0m\u001b[0;34m[\u001b[0m\u001b[0;36m3\u001b[0m\u001b[0;34m,\u001b[0m \u001b[0;36m0\u001b[0m\u001b[0;34m]\u001b[0m\u001b[0;34m,\u001b[0m \u001b[0;34m[\u001b[0m\u001b[0;36m1\u001b[0m\u001b[0;34m,\u001b[0m \u001b[0;36m2\u001b[0m\u001b[0;34m]\u001b[0m\u001b[0;34m,\u001b[0m \u001b[0;34m[\u001b[0m\u001b[0;36m2\u001b[0m\u001b[0;34m,\u001b[0m \u001b[0;36m1\u001b[0m\u001b[0;34m]\u001b[0m\u001b[0;34m,\u001b[0m \u001b[0;34m[\u001b[0m\u001b[0;36m0\u001b[0m\u001b[0;34m,\u001b[0m \u001b[0;36m0\u001b[0m\u001b[0;34m]\u001b[0m\u001b[0;34m]\u001b[0m\u001b[0;34m)\u001b[0m\u001b[0;34m:\u001b[0m\u001b[0;34m\u001b[0m\u001b[0;34m\u001b[0m\u001b[0m\n\u001b[1;32m    227\u001b[0m         \u001b[0mself\u001b[0m\u001b[0;34m.\u001b[0m\u001b[0mplayer_generator\u001b[0m\u001b[0;34m(\u001b[0m\u001b[0mstate\u001b[0m\u001b[0;34m)\u001b[0m\u001b[0;34m\u001b[0m\u001b[0;34m\u001b[0m\u001b[0m\n\u001b[0;32m--> 228\u001b[0;31m         \u001b[0mself\u001b[0m\u001b[0;34m.\u001b[0m\u001b[0mget_payoffs\u001b[0m\u001b[0;34m(\u001b[0m\u001b[0;34m)\u001b[0m\u001b[0;34m\u001b[0m\u001b[0;34m\u001b[0m\u001b[0m\n\u001b[0m\u001b[1;32m    229\u001b[0m         \u001b[0;31m# print('Payoffs:', self.payoff)\u001b[0m\u001b[0;34m\u001b[0m\u001b[0;34m\u001b[0m\u001b[0;34m\u001b[0m\u001b[0m\n\u001b[1;32m    230\u001b[0m \u001b[0;34m\u001b[0m\u001b[0m\n",
      "\u001b[0;32m~/kernel/thesis/code/corpgame/corpgame.py\u001b[0m in \u001b[0;36mget_payoffs\u001b[0;34m(self)\u001b[0m\n\u001b[1;32m    193\u001b[0m             \u001b[0mself\u001b[0m\u001b[0;34m.\u001b[0m\u001b[0mplayer_generator\u001b[0m\u001b[0;34m(\u001b[0m\u001b[0mplayer_state\u001b[0m\u001b[0;34m)\u001b[0m\u001b[0;34m\u001b[0m\u001b[0;34m\u001b[0m\u001b[0m\n\u001b[1;32m    194\u001b[0m             \u001b[0mself\u001b[0m\u001b[0;34m.\u001b[0m\u001b[0mupdate_strategies\u001b[0m\u001b[0;34m(\u001b[0m\u001b[0mstrategy\u001b[0m\u001b[0;34m)\u001b[0m\u001b[0;34m\u001b[0m\u001b[0;34m\u001b[0m\u001b[0m\n\u001b[0;32m--> 195\u001b[0;31m             \u001b[0mself\u001b[0m\u001b[0;34m.\u001b[0m\u001b[0mround\u001b[0m\u001b[0;34m(\u001b[0m\u001b[0;34m)\u001b[0m\u001b[0;34m\u001b[0m\u001b[0;34m\u001b[0m\u001b[0m\n\u001b[0m\u001b[1;32m    196\u001b[0m             \u001b[0mself\u001b[0m\u001b[0;34m.\u001b[0m\u001b[0mget_state\u001b[0m\u001b[0;34m(\u001b[0m\u001b[0;34m)\u001b[0m\u001b[0;34m\u001b[0m\u001b[0;34m\u001b[0m\u001b[0m\n\u001b[1;32m    197\u001b[0m             \u001b[0mdifference\u001b[0m \u001b[0;34m=\u001b[0m \u001b[0mself\u001b[0m\u001b[0;34m.\u001b[0m\u001b[0mstate\u001b[0m \u001b[0;34m-\u001b[0m \u001b[0mbase_state\u001b[0m\u001b[0;34m\u001b[0m\u001b[0;34m\u001b[0m\u001b[0m\n",
      "\u001b[0;32m~/kernel/thesis/code/corpgame/corpgame.py\u001b[0m in \u001b[0;36mround\u001b[0;34m(self)\u001b[0m\n\u001b[1;32m    122\u001b[0m                 \u001b[0;32mfor\u001b[0m \u001b[0mi\u001b[0m \u001b[0;32min\u001b[0m \u001b[0mrange\u001b[0m\u001b[0;34m(\u001b[0m\u001b[0mlen\u001b[0m\u001b[0;34m(\u001b[0m\u001b[0mcontestants\u001b[0m\u001b[0;34m)\u001b[0m\u001b[0;34m)\u001b[0m\u001b[0;34m:\u001b[0m\u001b[0;34m\u001b[0m\u001b[0;34m\u001b[0m\u001b[0m\n\u001b[1;32m    123\u001b[0m                     \u001b[0;32mif\u001b[0m \u001b[0mlosing_amount\u001b[0m \u001b[0;34m>\u001b[0m \u001b[0;36m0\u001b[0m\u001b[0;34m:\u001b[0m\u001b[0;34m\u001b[0m\u001b[0;34m\u001b[0m\u001b[0m\n\u001b[0;32m--> 124\u001b[0;31m                         \u001b[0mcontestants\u001b[0m\u001b[0;34m[\u001b[0m\u001b[0mi\u001b[0m\u001b[0;34m]\u001b[0m\u001b[0;34m.\u001b[0m\u001b[0mcompany\u001b[0m\u001b[0;34m[\u001b[0m\u001b[0mlosing_type\u001b[0m\u001b[0;34m]\u001b[0m \u001b[0;34m+=\u001b[0m \u001b[0;36m1\u001b[0m\u001b[0;34m\u001b[0m\u001b[0;34m\u001b[0m\u001b[0m\n\u001b[0m\u001b[1;32m    125\u001b[0m                         \u001b[0mlosing_amount\u001b[0m \u001b[0;34m-=\u001b[0m \u001b[0;36m1\u001b[0m\u001b[0;34m\u001b[0m\u001b[0;34m\u001b[0m\u001b[0m\n\u001b[1;32m    126\u001b[0m                     \u001b[0;32melse\u001b[0m\u001b[0;34m:\u001b[0m\u001b[0;34m\u001b[0m\u001b[0;34m\u001b[0m\u001b[0m\n",
      "\u001b[0;31mKeyboardInterrupt\u001b[0m: "
     ]
    }
   ],
   "source": [
    "import pandas as pd\n",
    "import numpy as np\n",
    "import math, random, pickle\n",
    "\n",
    "from corpgame import Game\n",
    "# create a simple mobility game\n",
    "n = 13\n",
    "all_nash = []\n",
    "for n in range(15,17):\n",
    "    n_nash = []\n",
    "    for i in range(1,int(2**(n**0.47))):\n",
    "        s = []\n",
    "        for j in range(0,n):\n",
    "            a = [random.randint(0,11), random.randint(0,10)]\n",
    "            s.append(a)\n",
    "        game = Game()\n",
    "        # show nash equilibria for starting conditions\n",
    "        game(state=s)\n",
    "        game.get_nash()\n",
    "        num_nash = 0\n",
    "        for key in game.nash:\n",
    "            if game.nash[key]: num_nash+=1\n",
    "        n_nash.append(num_nash)\n",
    "        if i%5==0:\n",
    "            print(i, s)\n",
    "            game.print()\n",
    "            game.show_nash()\n",
    "        if game.nash=={}:\n",
    "            print(i, \"NO NASH!!!!!!!!!!!!!!!!!!!!\")\n",
    "            print(s)\n",
    "            game.print()\n",
    "            break\n",
    "    all_nash.append(n_nash)\n",
    "    print(\"Size \", n, num_nash)\n",
    "    pickle.dump(all_nash, open('nash_4.pickle','wb'))"
   ]
  },
  {
   "cell_type": "code",
   "execution_count": 38,
   "metadata": {},
   "outputs": [
    {
     "name": "stdout",
     "output_type": "stream",
     "text": [
      "2 2.3 \t\t [2, 3, 1, 4, 5, 2, 1, 2, 1, 2]\n",
      "3 2.8181818181818183 \t\t [2, 3, 7, 4, 5, 3, 2, 1, 2, 1, 1]\n"
     ]
    }
   ],
   "source": [
    "import pickle\n",
    "nash = pickle.load(open('nash_4.pickle','rb'))\n",
    "for i,n in enumerate(nash):\n",
    "    print(i+2, sum(n)/len(n), '\\t\\t',nash[i])"
   ]
  },
  {
   "cell_type": "code",
   "execution_count": 11,
   "metadata": {},
   "outputs": [
    {
     "data": {
      "text/plain": [
       "[[10, 2], [9, 2], [10, 9]]"
      ]
     },
     "execution_count": 11,
     "metadata": {},
     "output_type": "execute_result"
    }
   ],
   "source": [
    "import random\n",
    "l = []\n",
    "i=3\n",
    "for j in range(0,i):\n",
    "    a = [random.randint(0,10), random.randint(0,10)]\n",
    "    l.append(a)\n",
    "l"
   ]
  },
  {
   "cell_type": "code",
   "execution_count": 8,
   "metadata": {},
   "outputs": [
    {
     "data": {
      "text/plain": [
       "NoneType"
      ]
     },
     "execution_count": 8,
     "metadata": {},
     "output_type": "execute_result"
    }
   ],
   "source": [
    "type(l)"
   ]
  },
  {
   "cell_type": "code",
   "execution_count": null,
   "metadata": {},
   "outputs": [],
   "source": []
  }
 ],
 "metadata": {
  "kernelspec": {
   "display_name": "Python 3",
   "language": "python",
   "name": "python3"
  },
  "language_info": {
   "codemirror_mode": {
    "name": "ipython",
    "version": 3
   },
   "file_extension": ".py",
   "mimetype": "text/x-python",
   "name": "python",
   "nbconvert_exporter": "python",
   "pygments_lexer": "ipython3",
   "version": "3.7.3"
  }
 },
 "nbformat": 4,
 "nbformat_minor": 2
}
