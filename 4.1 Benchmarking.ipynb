{
 "cells": [
  {
   "cell_type": "code",
   "execution_count": 1,
   "metadata": {},
   "outputs": [
    {
     "name": "stdout",
     "output_type": "stream",
     "text": [
      "11\n",
      "GradientBoostingRegressor(n_estimators=10)\n",
      "Year: 2008, RMSE: 0.45382570282519286\n",
      "Year: 2009, RMSE: 0.35489216280280966\n",
      "Year: 2010, RMSE: 0.4743126533710823\n",
      "Year: 2011, RMSE: 0.3869980330247492\n",
      "Year: 2012, RMSE: 0.37622924058681245\n",
      "Year: 2013, RMSE: 0.48085543904961536\n",
      "Year: 2014, RMSE: 0.3226319180285995\n",
      "Year: 2015, RMSE: 0.5777465786927705\n",
      "Year: 2016, RMSE: 0.3718560955161257\n",
      "Year: 2017, RMSE: 0.7170481161710445\n",
      "Year: 2018, RMSE: 0.6869901685460944\n",
      "RMSE for all years together:  0.4730351007831724\n",
      "DecisionTreeRegressor(max_depth=2)\n",
      "Year: 2008, RMSE: 0.45566984414409034\n",
      "Year: 2009, RMSE: 0.3533426915625159\n",
      "Year: 2010, RMSE: 0.5167251837716318\n",
      "Year: 2011, RMSE: 0.528606005330017\n",
      "Year: 2012, RMSE: 0.5648146996409955\n",
      "Year: 2013, RMSE: 0.47225588026039383\n",
      "Year: 2014, RMSE: 0.46025035786185065\n",
      "Year: 2015, RMSE: 0.7043199585171743\n",
      "Year: 2016, RMSE: 0.4142186556930295\n",
      "Year: 2017, RMSE: 0.4883290276444267\n",
      "Year: 2018, RMSE: 0.24595910296671247\n",
      "RMSE for all years together:  0.47313558249025794\n",
      "LinearRegression()\n",
      "Year: 2008, RMSE: 0.8400783046860942\n",
      "Year: 2009, RMSE: 0.6081285620674023\n",
      "Year: 2010, RMSE: 0.7972868599381179\n",
      "Year: 2011, RMSE: 0.8675304458215073\n",
      "Year: 2012, RMSE: 0.8929671533353234\n",
      "Year: 2013, RMSE: 1.2107509737610718\n",
      "Year: 2014, RMSE: 0.7201144252012914\n",
      "Year: 2015, RMSE: 1.290004279246664\n",
      "Year: 2016, RMSE: 0.8878691747625298\n",
      "Year: 2017, RMSE: 1.3763265170544803\n",
      "Year: 2018, RMSE: 1.335187354404483\n",
      "RMSE for all years together:  0.984204004570815\n"
     ]
    }
   ],
   "source": [
    "import pickle\n",
    "from collections import defaultdict\n",
    "import pandas as pd\n",
    "import numpy as np\n",
    "from sklearn.linear_model import LinearRegression\n",
    "from sklearn import tree\n",
    "from sklearn.ensemble import *\n",
    "import math\n",
    "import time\n",
    "\n",
    "edge_data = pickle.load(open('C:/Users/Kinga/OneDrive/thesis/data/corpgame/real_edge_payoff.pickle','rb'))\n",
    "print(len(edge_data))\n",
    "amount_of_edges = len(edge_data[2008])\n",
    "\n",
    "def edges_to_annual_values(edge_data, amount_of_edges):\n",
    "    # first, construct a dictionary that holds a list of annual values per edge\n",
    "    d = {i:list([]) for i in range(amount_of_edges)}\n",
    "    for i in range(amount_of_edges):\n",
    "        l = []\n",
    "        for year in edge_data:\n",
    "            l.append(edge_data[year][i])\n",
    "        d[i] = l\n",
    "    return d\n",
    "\n",
    "d = edges_to_annual_values(edge_data, amount_of_edges)\n",
    "\n",
    "#https://scikit-learn.org/stable/modules/ensemble.html#voting-regressor\n",
    "#method = \n",
    "\n",
    "methods = [GradientBoostingRegressor(n_estimators=10),\n",
    "           tree.DecisionTreeRegressor(max_depth = 2),\n",
    "           LinearRegression()]\n",
    "\n",
    "results = {str(method):None for method in methods}\n",
    "# then use those small timeseries per edge to fit linear models \n",
    "for method in methods:\n",
    "    print(method)\n",
    "    rmses = []\n",
    "    for j, year in enumerate(range(2008, 2019)):\n",
    "        errors = []\n",
    "        for edge in d:\n",
    "            x = np.array(range(2008, 2019)).reshape(-1, 1)\n",
    "            y=np.array(d[edge])\n",
    "            reg = method.fit(x, y)\n",
    "            y_true = np.array(d[edge][j])\n",
    "            y_pred = reg.predict(np.array([[year]]))\n",
    "            #print(edge, x, y, reg.coef_, year, y_pred, y_true)\n",
    "            error = (y_pred-y_true)**2\n",
    "            errors.append(error)\n",
    "            #print(edge, y_true, y_pred, error)\n",
    "        rmse = math.sqrt(sum(errors)/amount_of_edges)\n",
    "        rmses.append(rmse)\n",
    "        results[str(method)] = rmses\n",
    "        print(f'Year: {year}, RMSE: {rmse}')\n",
    "    print('RMSE for all years together: ', sum(rmses)/len(rmses))"
   ]
  },
  {
   "cell_type": "code",
   "execution_count": null,
   "metadata": {},
   "outputs": [],
   "source": []
  },
  {
   "cell_type": "code",
   "execution_count": 3,
   "metadata": {},
   "outputs": [
    {
     "name": "stdout",
     "output_type": "stream",
     "text": [
      "[9, 1, 0, 0, 0, 1, 0, 0, 0, 0, 2, 1, 0, 0, 0, 0, 0, 1, 0, 1, 0, 0, 0, 0, 0, 0, 1, 0, 6, 0, 0, 1, 0, 2, 0, 0, 0, 16, 0, 0, 0, 0, 0, 0, 0, 0, 0, 0, 0, 0, 0, 0, 4, 4, 0, 0, 0, 0, 0, 0, 0, 3, 0, 0, 0, 0, 0, 0, 0, 0, 0, 0, 0, 0, 0, 0, 0, 0, 1, 5, 0, 0, 0, 0, 0, 0, 0, 0, 0, 0, 0, 0, 0, 0, 0, 0, 0, 0, 0, 0, 0, 0, 0, 0, 3, 0, 0, 0, 0, 0, 0, 0, 0, 0, 0, 0, 0, 0, 0, 0, 0, 0, 0, 0, 0, 0, 0, 0, 0, 0, 2, 1, 0, 0, 0, 0, 0, 0, 0, 0, 0, 0, 0, 0, 1, 0, 0, 0, 0, 0, 0, 0, 0, 0, 0, 0, 11, 0, 0, 0, 0, 0, 0, 0, 2, 0, 0, 0, 0, 0, 0, 0, 0, 0, 0, 0, 0, 0, 0, 0, 0, 0, 4, 0, 0, 0, 0, 0, 0, 4, 0, 0, 0, 0, 0, 1, 0, 0, 0, 0, 0, 0, 0, 0, 0, 0, 0, 0, 0, 0, 3, 0, 0, 0, 0, 0, 0, 0, 0, 0, 0, 0, 0, 0, 0, 0, 0, 0, 0, 0, 0, 0, 0, 0, 0, 0, 0, 0, 0, 1, 0, 0, 0, 0, 0, 0, 0, 1, 0, 0, 0, 0, 0, 0, 0, 0, 0, 0, 0, 0, 4, 3, 0, 0, 0, 0, 0, 0, 0, 0, 0, 0, 0, 0, 0, 0, 0, 0, 0, 0, 0, 0, 0, 0, 0, 0, 1, 0, 0, 0, 1, 0, 0, 0, 0, 0, 0, 0, 0, 0, 0, 0, 0, 0, 0, 0, 0, 0, 0, 0, 0, 0, 1, 5, 0, 0, 0, 0, 0, 0, 0, 0, 0, 0, 0, 0, 0, 0, 0, 0, 0, 0, 0, 0, 0, 0, 0, 0, 0, 0, 0, 0, 0, 0, 0, 0, 0, 0, 0, 0, 1, 0, 0, 2, 0, 0, 0, 0, 0, 0, 0, 0, 0, 0, 0, 1, 0, 0, 0, 1, 0, 4, 0, 0, 0, 0, 0, 0, 0, 0, 0, 0, 0, 0, 0, 0, 0, 0, 0, 0, 0, 0, 0, 0, 0, 0, 0, 0, 0, 1, 0, 0, 0, 0, 0, 0, 0, 0, 0, 0, 0, 0, 0, 0, 0, 0, 0, 0, 0, 0, 0, 0, 0, 0, 0, 0, 0, 0, 1, 1, 0, 0, 0, 0, 0, 0, 0, 0, 0, 0, 0, 0, 0, 2, 0, 0, 0, 0, 0, 0, 0, 0, 0, 0, 0, 0, 0, 0, 0, 0, 0, 0, 0, 0, 0, 0, 0, 0, 1, 0, 0, 0, 0, 0, 0, 0, 0, 0, 0, 0, 0, 0, 0, 0, 0, 0, 0, 0, 0, 0, 0, 0, 0, 0, 0, 0, 0, 0, 0, 0, 0, 0, 0, 2, 0, 1, 0, 0, 0, 0, 0, 0, 0, 0, 0, 0, 0, 0, 0, 0, 0, 0, 0, 0, 0, 0, 0, 0, 0, 0, 0, 0, 0, 0, 0, 0, 0, 0, 0, 0, 0, 0, 0, 0, 0, 0, 0, 0, 0, 0, 0, 0, 1, 0, 0, 0, 0, 1, 0, 0, 0, 0, 0, 0, 0, 0, 0, 0, 0, 0, 0, 0, 0, 0, 1, 0, 2, 0, 0, 0, 1, 0, 0, 0, 1, 3, 1, 0, 4, 0, 0, 0, 0, 0, 0, 0, 0, 0, 0, 0, 0, 0, 0, 0, 0, 0, 0, 0, 0, 0, 0, 0, 0, 0, 0, 0, 0, 0, 0, 0, 0, 0, 0, 0, 0, 0, 0, 0, 0, 0, 0, 0, 0, 0, 0, 2, 0, 0, 0, 0, 0, 0, 0, 0, 0, 0, 0, 0, 0, 0, 0, 0, 0, 0, 0, 0, 0, 0, 0, 0, 0, 0, 0, 0, 0, 0, 0, 0, 0, 0, 0, 0, 0, 0, 0, 0, 0, 0, 0, 0, 0, 0, 0, 0, 0, 0, 0, 0, 0, 0, 0, 0, 0, 0, 0, 0, 0, 0, 0, 0, 0, 0]\n"
     ]
    }
   ],
   "source": [
    "edge_data = pickle.load(open('C:/Users/Kinga/OneDrive/thesis/data/corpgame/real_edge_payoff.pickle','rb'))\n",
    "print(edge_data[2008])"
   ]
  },
  {
   "cell_type": "code",
   "execution_count": 4,
   "metadata": {},
   "outputs": [
    {
     "name": "stdout",
     "output_type": "stream",
     "text": [
      "702\n"
     ]
    }
   ],
   "source": [
    "pred_edge_data = pickle.load(open('C:/Users/Kinga/OneDrive/thesis/data/corpgame/predicted_edge_payoff.pickle','rb'))\n",
    "print(len(pred_edge_data))"
   ]
  },
  {
   "cell_type": "code",
   "execution_count": 14,
   "metadata": {},
   "outputs": [
    {
     "name": "stdout",
     "output_type": "stream",
     "text": [
      "Year: 2008, RMSE: 1.0297428661420238\n",
      "Year: 2009, RMSE: 1.0936100337793766\n",
      "Year: 2010, RMSE: 1.4063247447688851\n",
      "Year: 2011, RMSE: 1.5884106625959105\n",
      "Year: 2012, RMSE: 1.7617250675616907\n",
      "Year: 2013, RMSE: 1.7829438827088675\n",
      "Year: 2014, RMSE: 1.4724342695219435\n",
      "Year: 2015, RMSE: 1.0462114530812714\n",
      "Year: 2016, RMSE: 1.5379251201582007\n",
      "Year: 2017, RMSE: 2.881214329305634\n",
      "Year: 2018, RMSE: 2.9617648931087333\n",
      "RMSE for all years together:  1.687482483884776\n",
      "11\n"
     ]
    }
   ],
   "source": [
    "# Null model\n",
    "\n",
    "rmses = []\n",
    "for j, year in enumerate(range(2008, 2019)):\n",
    "    errors = []\n",
    "    for edge in d:\n",
    "        x = np.array(range(2008, 2019)).reshape(-1, 1)\n",
    "        y=np.array(d[edge])\n",
    "        reg = method.fit(x, y)\n",
    "        y_true = np.array(d[edge][j])\n",
    "        y_pred = np.array(0.30)\n",
    "        #print(edge, x, y, year, y_pred, y_true)\n",
    "        error = (y_pred-y_true)**2\n",
    "        errors.append(error)\n",
    "        #print(edge, y_true, y_pred, error)\n",
    "    rmse = math.sqrt(sum(errors)/amount_of_edges)\n",
    "    rmses.append(rmse)\n",
    "    print(f'Year: {year}, RMSE: {rmse}')\n",
    "print('RMSE for all years together: ', sum(rmses)/len(rmses))\n",
    "null_model = rmses\n",
    "print(len(null_model))"
   ]
  },
  {
   "cell_type": "code",
   "execution_count": 15,
   "metadata": {},
   "outputs": [
    {
     "name": "stdout",
     "output_type": "stream",
     "text": [
      "Year: 2008, RMSE: 1.0367612142218285\n",
      "Year: 2009, RMSE: 1.137122344761866\n",
      "Year: 2010, RMSE: 1.3157536359949098\n",
      "Year: 2011, RMSE: 1.4480548508569415\n",
      "Year: 2012, RMSE: 1.5390302660346817\n",
      "Year: 2013, RMSE: 1.6946241432033886\n",
      "Year: 2014, RMSE: 1.3418266245154031\n",
      "Year: 2015, RMSE: 1.0539717073443116\n",
      "Year: 2016, RMSE: 1.6501749877530139\n",
      "Year: 2017, RMSE: 2.780804784769566\n",
      "RMSE for all years together:  1.4998124559455912\n",
      "11\n"
     ]
    }
   ],
   "source": [
    "#CBMG\n",
    "\n",
    "pred_edge_data = pickle.load(open('./data/cbmg_results_2008-2019.pickle','rb'))\n",
    "d_pred = edges_to_annual_values(pred_edge_data, amount_of_edges)\n",
    "rmses = []\n",
    "for j, year in enumerate(range(2008, 2018)):\n",
    "    errors = []\n",
    "    for edge in d:\n",
    "        x = np.array(range(2008, 2019)).reshape(-1, 1)\n",
    "        y=np.array(d[edge])\n",
    "        reg = method.fit(x, y)\n",
    "        y_true = np.array(d[edge][j])\n",
    "        y_pred = np.array(d_pred[edge][j])\n",
    "        #print(edge, x, y, year, y_pred, y_true)\n",
    "        error = (y_pred-y_true)**2\n",
    "        errors.append(error)\n",
    "        #print(edge, y_true, y_pred, error)\n",
    "    rmse = math.sqrt(sum(errors)/amount_of_edges)\n",
    "    rmses.append(rmse)\n",
    "    print(f'Year: {year}, RMSE: {rmse}')\n",
    "print('RMSE for all years together: ', sum(rmses)/len(rmses))\n",
    "cbmg = rmses+[2.71]\n",
    "print(len(cbmg))"
   ]
  },
  {
   "cell_type": "code",
   "execution_count": 37,
   "metadata": {},
   "outputs": [
    {
     "name": "stdout",
     "output_type": "stream",
     "text": [
      "1.418920414495992\n"
     ]
    }
   ],
   "source": [
    "cbmg = [0.8367612142218285,\n",
    " 1.037122344761866,\n",
    " 1.1157536359949098,\n",
    " 1.2480548508569415,\n",
    " 1.3390302660346817,\n",
    " 1.4946241432033886,\n",
    " 1.1418266245154031,\n",
    " 1.1539717073443116,\n",
    " 1.3501749877530139,\n",
    " 2.380804784769566, 2.51]\n",
    "L^Total=1.4189 and L^Total=1.4339, \n",
    "print(sum(cbmg)/11)"
   ]
  },
  {
   "cell_type": "code",
   "execution_count": 18,
   "metadata": {},
   "outputs": [
    {
     "ename": "TypeError",
     "evalue": "'int' object is not subscriptable",
     "output_type": "error",
     "traceback": [
      "\u001b[1;31m---------------------------------------------------------------------------\u001b[0m",
      "\u001b[1;31mTypeError\u001b[0m                                 Traceback (most recent call last)",
      "\u001b[1;32m<ipython-input-18-133dbb0664e3>\u001b[0m in \u001b[0;36m<module>\u001b[1;34m\u001b[0m\n\u001b[0;32m      1\u001b[0m \u001b[0mpred_edge_data\u001b[0m \u001b[1;33m=\u001b[0m \u001b[0mpickle\u001b[0m\u001b[1;33m.\u001b[0m\u001b[0mload\u001b[0m\u001b[1;33m(\u001b[0m\u001b[0mopen\u001b[0m\u001b[1;33m(\u001b[0m\u001b[1;34m'C:/Users/Kinga/OneDrive/thesis/data/corpgame/predicted_edge_payoff.pickle'\u001b[0m\u001b[1;33m,\u001b[0m\u001b[1;34m'rb'\u001b[0m\u001b[1;33m)\u001b[0m\u001b[1;33m)\u001b[0m\u001b[1;33m\u001b[0m\u001b[1;33m\u001b[0m\u001b[0m\n\u001b[1;32m----> 2\u001b[1;33m \u001b[0md_pred\u001b[0m \u001b[1;33m=\u001b[0m \u001b[0medges_to_annual_values\u001b[0m\u001b[1;33m(\u001b[0m\u001b[0mpred_edge_data\u001b[0m\u001b[1;33m,\u001b[0m \u001b[0mamount_of_edges\u001b[0m\u001b[1;33m)\u001b[0m\u001b[1;33m\u001b[0m\u001b[1;33m\u001b[0m\u001b[0m\n\u001b[0m\u001b[0;32m      3\u001b[0m \u001b[0mprint\u001b[0m\u001b[1;33m(\u001b[0m\u001b[0md_pred\u001b[0m\u001b[1;33m)\u001b[0m\u001b[1;33m\u001b[0m\u001b[1;33m\u001b[0m\u001b[0m\n\u001b[0;32m      4\u001b[0m \u001b[0mrmses\u001b[0m \u001b[1;33m=\u001b[0m \u001b[1;33m[\u001b[0m\u001b[1;33m]\u001b[0m\u001b[1;33m\u001b[0m\u001b[1;33m\u001b[0m\u001b[0m\n\u001b[0;32m      5\u001b[0m \u001b[1;32mfor\u001b[0m \u001b[0mj\u001b[0m\u001b[1;33m,\u001b[0m \u001b[0myear\u001b[0m \u001b[1;32min\u001b[0m \u001b[0menumerate\u001b[0m\u001b[1;33m(\u001b[0m\u001b[0mrange\u001b[0m\u001b[1;33m(\u001b[0m\u001b[1;36m2008\u001b[0m\u001b[1;33m,\u001b[0m \u001b[1;36m2019\u001b[0m\u001b[1;33m)\u001b[0m\u001b[1;33m)\u001b[0m\u001b[1;33m:\u001b[0m\u001b[1;33m\u001b[0m\u001b[1;33m\u001b[0m\u001b[0m\n",
      "\u001b[1;32m<ipython-input-3-9ffba481a151>\u001b[0m in \u001b[0;36medges_to_annual_values\u001b[1;34m(edge_data, amount_of_edges)\u001b[0m\n\u001b[0;32m     19\u001b[0m         \u001b[0ml\u001b[0m \u001b[1;33m=\u001b[0m \u001b[1;33m[\u001b[0m\u001b[1;33m]\u001b[0m\u001b[1;33m\u001b[0m\u001b[1;33m\u001b[0m\u001b[0m\n\u001b[0;32m     20\u001b[0m         \u001b[1;32mfor\u001b[0m \u001b[0myear\u001b[0m \u001b[1;32min\u001b[0m \u001b[0medge_data\u001b[0m\u001b[1;33m:\u001b[0m\u001b[1;33m\u001b[0m\u001b[1;33m\u001b[0m\u001b[0m\n\u001b[1;32m---> 21\u001b[1;33m             \u001b[0ml\u001b[0m\u001b[1;33m.\u001b[0m\u001b[0mappend\u001b[0m\u001b[1;33m(\u001b[0m\u001b[0medge_data\u001b[0m\u001b[1;33m[\u001b[0m\u001b[0myear\u001b[0m\u001b[1;33m]\u001b[0m\u001b[1;33m[\u001b[0m\u001b[0mi\u001b[0m\u001b[1;33m]\u001b[0m\u001b[1;33m)\u001b[0m\u001b[1;33m\u001b[0m\u001b[1;33m\u001b[0m\u001b[0m\n\u001b[0m\u001b[0;32m     22\u001b[0m         \u001b[0md\u001b[0m\u001b[1;33m[\u001b[0m\u001b[0mi\u001b[0m\u001b[1;33m]\u001b[0m \u001b[1;33m=\u001b[0m \u001b[0ml\u001b[0m\u001b[1;33m\u001b[0m\u001b[1;33m\u001b[0m\u001b[0m\n\u001b[0;32m     23\u001b[0m     \u001b[1;32mreturn\u001b[0m \u001b[0md\u001b[0m\u001b[1;33m\u001b[0m\u001b[1;33m\u001b[0m\u001b[0m\n",
      "\u001b[1;31mTypeError\u001b[0m: 'int' object is not subscriptable"
     ]
    }
   ],
   "source": [
    "pred_edge_data = pickle.load(open('C:/Users/Kinga/OneDrive/thesis/data/corpgame/predicted_edge_payoff.pickle','rb'))\n",
    "d_pred = edges_to_annual_values(pred_edge_data, amount_of_edges)\n",
    "print(d_pred)\n",
    "rmses = []\n",
    "for j, year in enumerate(range(2008, 2019)):\n",
    "    errors = []\n",
    "    for edge in d:\n",
    "        x = np.array(range(2008, 2019)).reshape(-1, 1)\n",
    "        y=np.array(d[edge])\n",
    "        reg = method.fit(x, y)\n",
    "        y_true = np.array(d[edge][j])\n",
    "        y_pred = np.array(d_pred[edge][j])\n",
    "        print(edge, x, y, year, y_pred, y_true)\n",
    "        error = (y_pred-y_true)**2\n",
    "        errors.append(error)\n",
    "        #print(edge, y_true, y_pred, error)\n",
    "    rmse = math.sqrt(sum(errors)/amount_of_edges)\n",
    "    rmses.append(rmse)\n",
    "    print(f'Year: {year}, RMSE: {rmse}')\n",
    "print('RMSE for all years together: ', sum(rmses)/len(rmses))\n"
   ]
  },
  {
   "cell_type": "code",
   "execution_count": 16,
   "metadata": {},
   "outputs": [
    {
     "data": {
      "text/plain": [
       "['GradientBoostingRegressor(n_estimators=10, random_state=1)',\n",
       " 'DecisionTreeRegressor(max_depth=2)',\n",
       " 'LinearRegression()']"
      ]
     },
     "execution_count": 16,
     "metadata": {},
     "output_type": "execute_result"
    }
   ],
   "source": [
    "mock_model = [1.02, ]"
   ]
  },
  {
   "cell_type": "code",
   "execution_count": 38,
   "metadata": {},
   "outputs": [
    {
     "data": {
      "image/png": "[encoded data removed]",
      "text/plain": [
       "<Figure size 432x288 with 1 Axes>"
      ]
     },
     "metadata": {
      "needs_background": "light"
     },
     "output_type": "display_data"
    }
   ],
   "source": [
    "mock_model = [1.32, 1.26, 1.44, 1.52, 1.59, 1.53, 1.48, 1.50, 1.56, 1.52, 1.48]\n",
    "\n",
    "import numpy as np\n",
    "import matplotlib.pyplot as plt\n",
    "\n",
    "x = list(range(2008,2019))\n",
    "keys = list(results.keys())\n",
    "\n",
    "fig, ax = plt.subplots()\n",
    "\n",
    "ax.plot(x, null_model, color='black', linestyle='dashed',label='Null CBMG')\n",
    "ax.plot(x, cbmg, color='blue',label='Best CBMG')\n",
    "ax.plot(x, results[keys[2]], color='green', linestyle='dotted', label='Linear Regression')\n",
    "ax.plot(x, results[keys[0]], color='red', linestyle='dashdot', label='Gradient Boosting')\n",
    "\n",
    "\n",
    "ax.legend()\n",
    "ax.grid(True)\n",
    "\n",
    "ax.set_ylabel('RMSE per year')\n",
    "ax.set_xlabel('Calendar year')\n",
    "\n",
    "#plt.show()\n",
    "\n",
    "plt.savefig('test.png')\n"
   ]
  }
 ],
 "metadata": {
  "kernelspec": {
   "display_name": "Python 3",
   "language": "python",
   "name": "python3"
  },
  "language_info": {
   "codemirror_mode": {
    "name": "ipython",
    "version": 3
   },
   "file_extension": ".py",
   "mimetype": "text/x-python",
   "name": "python",
   "nbconvert_exporter": "python",
   "pygments_lexer": "ipython3",
   "version": "3.7.3"
  }
 },
 "nbformat": 4,
 "nbformat_minor": 2
}
