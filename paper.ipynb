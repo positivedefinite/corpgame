{
 "cells": [
  {
   "cell_type": "markdown",
   "metadata": {},
   "source": [
    "Notation from Cai et al 2016\n",
    "\n",
    "G: A finite set $V = \\{ 1, 2, ..., n\\}$ of players (nodes), and a finite set $E$ of interactions (edges) which are taken to be unordered pairs $[i,j]$ with $i \\neq j$\n",
    "\n",
    "G: For each player $i \\in V$, a finite set of strategies $S_i$ with no requirement on size other than $|S_i| \\leq 1$.\n",
    "S: In our case, a natural number $k$ of the amount of strategies available fore every player such that $\\forall_i |S_i|=k$ and furthermore all players have equivalent strategy sets to choose from such that $\\forall_{[i,j]} S_i = S_j$.\n",
    "\n",
    "G: For each interaction $[i,j] \\in E$, a two-person game $(p^{ij},p^{ji})$ with payoff $p^{ij}:S_i x S_j \\longmapsto R $.\n",
    "S: Two-person game payoffs are always zero-sum such that $p^{ij}=-p^{ji}$.\n",
    "\n",
    "G: For each player $i \\in V$ and strategy profile $\\bar{s} = \\{ s_1, ..., s_n\\}$, payoff of player $i$ is $p_i(\\bar{s}) = \\sum _{[i,j] \\in E} p^{ij}(s_i,s_j)$.\n",
    "S: In our case, if $s_i=s_j$ then $p^{ij}=p^{ji}=0$ "
   ]
  },
  {
   "cell_type": "code",
   "execution_count": null,
   "metadata": {},
   "outputs": [],
   "source": []
  }
 ],
 "metadata": {
  "kernelspec": {
   "display_name": "Python 3",
   "language": "python",
   "name": "python3"
  },
  "language_info": {
   "codemirror_mode": {
    "name": "ipython",
    "version": 3
   },
   "file_extension": ".py",
   "mimetype": "text/x-python",
   "name": "python",
   "nbconvert_exporter": "python",
   "pygments_lexer": "ipython3",
   "version": "3.7.3"
  }
 },
 "nbformat": 4,
 "nbformat_minor": 2
}
