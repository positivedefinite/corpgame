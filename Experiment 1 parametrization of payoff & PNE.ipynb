{
 "cells": [
  {
   "cell_type": "code",
   "execution_count": 3,
   "metadata": {},
   "outputs": [],
   "source": [
    "from pprint import pprint\n",
    "import pandas as pd\n",
    "import numpy as np\n",
    "from logger import log\n",
    "from corpgame import PolymatrixGame\n",
    "from corpgame import GameManager\n",
    "import random\n",
    "import networkx as nx"
   ]
  },
  {
   "cell_type": "markdown",
   "metadata": {},
   "source": [
    "Notation from Cai et al 2016\n",
    "\n",
    "G: A finite set $V = \\{ 1, 2, ..., n\\}$ of players (nodes), and a finite set $E$ of interactions (edges) which are taken to be unordered pairs $[i,j]$ with $i \\neq j$\n",
    "\n",
    "G: For each player $i \\in V$, a finite set of strategies $S_i$ with no requirement on size other than $|S_i| \\leq 1$.\n",
    "S: In our case, a natural number $k$ of the amount of strategies available fore every player such that $\\forall_i |S_i|=k$ and furthermore all players have equivalent strategy sets to choose from such that $\\forall_{[i,j]} S_i = S_j$.\n",
    "\n",
    "G: For each interaction $[i,j] \\in E$, a two-person game $(p^{ij},p^{ji})$ with payoff $p^{ij}:S_i x S_j \\longmapsto R $.\n",
    "S: Two-person game payoffs are always zero-sum such that $p^{ij}=-p^{ji}$.\n",
    "\n",
    "G: For each player $i \\in V$ and strategy profile $\\bar{s} = \\{ s_1, ..., s_n\\}$, payoff of player $i$ is $p_i(\\bar{s}) = \\sum _{[i,j] \\in E} p^{ij}(s_i,s_j)$.\n",
    "S: In our case, if $s_i=s_j$ then $p^{ij}=p^{ji}=0$ "
   ]
  },
  {
   "cell_type": "code",
   "execution_count": 7,
   "metadata": {},
   "outputs": [],
   "source": [
    "games = [\n",
    "    [[4,4],[2,6],[10,0]],\n",
    "    [[6,4],[2,6],[10,10]],\n",
    "    [[11,2],[14,7],[20,12]],\n",
    "    [[20,60],[100,0],[30,30],[17,13],[10,53]],\n",
    "    [[7, 26], [30, 75], [12, 38], [15, 21],[8,0]],\n",
    "]"
   ]
  },
  {
   "cell_type": "code",
   "execution_count": 3,
   "metadata": {},
   "outputs": [
    {
     "name": "stdout",
     "output_type": "stream",
     "text": [
      "[8, 8, 8, 8, 8, 8, 8, 8, 8, 8, 8, 8, 8, 8, 8, 8, 8, 8, 8, 4, 4, 4, 4, 4, 4, 4, 4, 4, 4, 4, 4, 4, 4, 2, 2, 2, 2, 2, 2, 2, 2, 2, 2, 2, 2, 2, 2, 2, 2, 2, 2, 2, 2, 2, 2, 2, 2, 2, 2, 2, 2, 2, 2, 2, 2, 2, 2, 2, 2, 2, 2, 2, 2, 2, 2, 2, 2, 2, 2, 2, 2, 2, 2, 2, 2, 2, 2, 2, 2, 2, 2, 2, 2, 2, 2, 2, 2, 2, 2, 2]\n"
     ]
    }
   ],
   "source": [
    "# trying out some configurations\n",
    "n=100\n",
    "for i in range(n):\n",
    "    game_settings = {\n",
    "            \"start_populations_matrix\": [[11,2],[14,7],[20,12]],\n",
    "            \"topology\": \"fully_connected\",\n",
    "            'alpha': (i+1)/n,\n",
    "            'log_level': \"error\"\n",
    "        }\n",
    "    game = PolymatrixGame(**game_settings)\n",
    "    game.solve()\n",
    "    #pprint(game.payoffs)\n",
    "    pprint(len(game.pne))"
   ]
  },
  {
   "cell_type": "code",
   "execution_count": 20,
   "metadata": {},
   "outputs": [
    {
     "data": {
      "text/plain": [
       "defaultdict(None, {1: 3})"
      ]
     },
     "execution_count": 20,
     "metadata": {},
     "output_type": "execute_result"
    }
   ],
   "source": [
    "populations = [[[11,2],[14,7],[20,12]],[[11,2],[14,7],[20,12]],[[2,6],[10,0],[3,3],[1,1]],[[2,6],[3,7],[3,3]],[[20,60],[100,0],[30,30],[17,13],[10,53]]]\n",
    "n=50\n",
    "X = [(x+1)/n for x in list(range(n))]\n",
    "results = {i:[] for i in range(len(populations))}\n",
    "for i, population in enumerate(populations):\n",
    "    for x in X:\n",
    "        game_settings = {\n",
    "                \"start_populations_matrix\": population,\n",
    "                \"topology\": \"fully_connected\",\n",
    "                'alpha': x,\n",
    "                'log_level': \"error\"\n",
    "            }\n",
    "        game = PolymatrixGame(**game_settings)\n",
    "        game.solve()\n",
    "        results[i].append(len(game.pne))\n",
    "    print(i)\n",
    "\n"
   ]
  },
  {
   "cell_type": "code",
   "execution_count": 8,
   "metadata": {},
   "outputs": [
    {
     "name": "stdout",
     "output_type": "stream",
     "text": [
      "0\n",
      "1\n",
      "2\n",
      "3\n",
      "4\n"
     ]
    }
   ],
   "source": [
    "#populations = [[[11,2],[14,7],[20,12]],[[2,6],[10,0],[3,3],[1,1]],[[2,6],[3,7],[3,3]],[[20,60],[100,0],[30,30],[17,13],[10,53]]]\n",
    "populations = games\n",
    "n=50\n",
    "X = [(x+1)/n for x in list(range(n))]\n",
    "results = {i:[] for i in range(len(populations))}\n",
    "for i, population in enumerate(populations):\n",
    "    for x in X:\n",
    "        game_settings = {\n",
    "                \"start_populations_matrix\": population,\n",
    "                \"topology\": \"fully_connected\",\n",
    "                'alpha': x,\n",
    "                'log_level': \"error\"\n",
    "            }\n",
    "        game = PolymatrixGame(**game_settings)\n",
    "        game.solve()\n",
    "        results[i].append(len(game.pne))\n",
    "    print(i)\n",
    "\n"
   ]
  },
  {
   "cell_type": "code",
   "execution_count": 16,
   "metadata": {},
   "outputs": [
    {
     "data": {
      "text/plain": [
       "<matplotlib.axes._subplots.AxesSubplot at 0x1d9d6234d30>"
      ]
     },
     "execution_count": 16,
     "metadata": {},
     "output_type": "execute_result"
    },
    {
     "data": {
      "image/png": "[encoded data removed]",
      "text/plain": [
       "<Figure size 432x288 with 1 Axes>"
      ]
     },
     "metadata": {
      "needs_background": "light"
     },
     "output_type": "display_data"
    }
   ],
   "source": [
    "df = pd.DataFrame(results, index=X)\n",
    "\n",
    "pd.DataFrame(df).plot.line()"
   ]
  },
  {
   "cell_type": "code",
   "execution_count": 12,
   "metadata": {},
   "outputs": [
    {
     "name": "stdout",
     "output_type": "stream",
     "text": [
      "0 {'1101': [0.0, 0.0, 1.0, -1.0]}\n",
      "1 {'1101': [0.0, 0.0, 1.0, -1.0]}\n",
      "2 {'1101': [0.0, 0.0, 1.0, -1.0]}\n",
      "3 {'0100': [-1.0, 2.0, 0.0, -1.0], '0101': [-1.0, 1.0, 1.0, -1.0], '1100': [-1.0, 1.0, 1.0, -1.0], '1101': [-1.0, 0.0, 2.0, -1.0]}\n",
      "4 {'0100': [-1.0, 2.0, 0.0, -1.0], '0101': [-1.0, 1.0, 1.0, -1.0], '1100': [-1.0, 1.0, 1.0, -1.0], '1101': [-1.0, 0.0, 2.0, -1.0]}\n",
      "5 {'0100': [-1.0, 2.0, 0.0, -1.0], '0101': [-1.0, 1.0, 1.0, -1.0], '1100': [-1.0, 1.0, 1.0, -1.0], '1101': [-1.0, 0.0, 2.0, -1.0]}\n",
      "6 {'0100': [-1.0, 2.0, 0.0, -1.0], '0101': [-1.0, 1.0, 1.0, -1.0]}\n",
      "7 {'0100': [-1.0, 2.0, 0.0, -1.0], '0101': [-1.0, 1.0, 1.0, -1.0]}\n",
      "8 {'0100': [-1.0, 2.0, 0.0, -1.0], '0101': [-1.0, 1.0, 1.0, -1.0]}\n",
      "9 {'0100': [-1.0, 2.0, 0.0, -1.0], '0101': [-1.0, 1.0, 1.0, -1.0]}\n",
      "10 {'0100': [-1.0, 2.0, 0.0, -1.0], '0101': [-1.0, 1.0, 1.0, -1.0]}\n",
      "11 {'0100': [-1.0, 2.0, 0.0, -1.0], '0101': [-1.0, 1.0, 1.0, -1.0]}\n"
     ]
    }
   ],
   "source": [
    "# trying out some configurations\n",
    "for beta in range(12):\n",
    "    game_settings = {\n",
    "            \"start_populations_matrix\": [[beta,4],[2,6],[10,0],[3,3]],\n",
    "            \"topology\": \"fully_connected\",\n",
    "            'alpha': 1.0,\n",
    "            'log_level': \"error\"\n",
    "        }\n",
    "    game = PolymatrixGame(**game_settings)\n",
    "    game.solve()\n",
    "    print(beta, game.pne)"
   ]
  },
  {
   "cell_type": "code",
   "execution_count": 24,
   "metadata": {},
   "outputs": [
    {
     "name": "stdout",
     "output_type": "stream",
     "text": [
      "{'0000': {'payoff': [0.0, 0.0, 0.0, 0.0],\n",
      "          'payoff_matrix': [[0.0, 0.0], [0.0, 0.0], [0.0, 0.0], [0.0, 0.0]],\n",
      "          'pure_nash': False},\n",
      " '0001': {'payoff': [1.0, 0.0, -1.0, 0.0],\n",
      "          'payoff_matrix': [[1.0, 0.0], [1.0, -1.0], [1.0, -2.0], [-3.0, 3.0]],\n",
      "          'pure_nash': False},\n",
      " '0010': {'payoff': [2.0, 1.0, -4.0, 1.0],\n",
      "          'payoff_matrix': [[2.0, 0.0], [2.0, -1.0], [-6.0, 2.0], [2.0, -1.0]],\n",
      "          'pure_nash': False},\n",
      " '0011': {'payoff': [3.0, 1.0, -3.0, -1.0],\n",
      "          'payoff_matrix': [[3.0, 0.0], [3.0, -2.0], [-4.0, 1.0], [-2.0, 1.0]],\n",
      "          'pure_nash': False},\n",
      " '0100': {'payoff': [1.0, 0.0, -1.0, 0.0],\n",
      "          'payoff_matrix': [[1.0, 0.0], [-3.0, 3.0], [1.0, -2.0], [1.0, -1.0]],\n",
      "          'pure_nash': False},\n",
      " '0101': {'payoff': [2.0, 0.0, -2.0, 0.0],\n",
      "          'payoff_matrix': [[2.0, 0.0], [-2.0, 2.0], [2.0, -4.0], [-2.0, 2.0]],\n",
      "          'pure_nash': True},\n",
      " '0110': {'payoff': [3.0, -1.0, -3.0, 1.0],\n",
      "          'payoff_matrix': [[3.0, 0.0], [-2.0, 1.0], [-4.0, 1.0], [3.0, -2.0]],\n",
      "          'pure_nash': False},\n",
      " '0111': {'payoff': [4.0, -1.0, -2.0, -1.0],\n",
      "          'payoff_matrix': [[4.0, 0.0], [-1.0, 0.0], [-2.0, 0.0], [-1.0, 0.0]],\n",
      "          'pure_nash': False},\n",
      " '1000': {'payoff': [4.0, -1.0, -2.0, -1.0],\n",
      "          'payoff_matrix': [[0.0, 4.0], [0.0, -1.0], [0.0, -2.0], [0.0, -1.0]],\n",
      "          'pure_nash': False},\n",
      " '1001': {'payoff': [3.0, -1.0, -3.0, 1.0],\n",
      "          'payoff_matrix': [[0.0, 3.0], [1.0, -2.0], [1.0, -4.0], [-2.0, 3.0]],\n",
      "          'pure_nash': False},\n",
      " '1010': {'payoff': [2.0, 0.0, -2.0, 0.0],\n",
      "          'payoff_matrix': [[0.0, 2.0], [2.0, -2.0], [-4.0, 2.0], [2.0, -2.0]],\n",
      "          'pure_nash': True},\n",
      " '1011': {'payoff': [1.0, 0.0, -1.0, 0.0],\n",
      "          'payoff_matrix': [[0.0, 1.0], [3.0, -3.0], [-2.0, 1.0], [-1.0, 1.0]],\n",
      "          'pure_nash': False},\n",
      " '1100': {'payoff': [3.0, 1.0, -3.0, -1.0],\n",
      "          'payoff_matrix': [[0.0, 3.0], [-2.0, 3.0], [1.0, -4.0], [1.0, -2.0]],\n",
      "          'pure_nash': False},\n",
      " '1101': {'payoff': [2.0, 1.0, -4.0, 1.0],\n",
      "          'payoff_matrix': [[0.0, 2.0], [-1.0, 2.0], [2.0, -6.0], [-1.0, 2.0]],\n",
      "          'pure_nash': False},\n",
      " '1110': {'payoff': [1.0, 0.0, -1.0, 0.0],\n",
      "          'payoff_matrix': [[0.0, 1.0], [-1.0, 1.0], [-2.0, 1.0], [3.0, -3.0]],\n",
      "          'pure_nash': False},\n",
      " '1111': {'payoff': [0.0, 0.0, 0.0, 0.0],\n",
      "          'payoff_matrix': [[0.0, 0.0], [0.0, 0.0], [0.0, 0.0], [0.0, 0.0]],\n",
      "          'pure_nash': False}}\n"
     ]
    }
   ],
   "source": [
    "# trying out some configurations\n",
    "game_settings = {\n",
    "        \"start_populations_matrix\": [[0,0],[4,4],[8,8],[3,3]],\n",
    "        \"topology\": \"fully_connected\",\n",
    "        'alpha': 1.0,\n",
    "        'log_level': \"error\"\n",
    "    }\n",
    "game = PolymatrixGame(**game_settings)\n",
    "game.solve()\n",
    "pprint(game.actions)"
   ]
  },
  {
   "cell_type": "code",
   "execution_count": 15,
   "metadata": {},
   "outputs": [
    {
     "name": "stdout",
     "output_type": "stream",
     "text": [
      "0 {}\n",
      "1 {}\n",
      "2 {}\n",
      "3 {}\n",
      "4 {}\n",
      "5 {}\n"
     ]
    }
   ],
   "source": [
    "# trying out some configurations\n",
    "game_settings = {\n",
    "        \"start_populations_matrix\": [[0,0],[4,4],[8,8],[12,12],[16,16]],\n",
    "        \"topology\": \"fully_connected\",\n",
    "        'alpha': 1.0,\n",
    "        'log_level': \"error\"\n",
    "    }\n",
    "n=5\n",
    "mst_size = int(n*(n-1)/2)-n+1\n",
    "game = PolymatrixGame(**game_settings)\n",
    "for beta in range(mst_size):   \n",
    "    game.solve()\n",
    "    print(beta, game.pne)\n",
    "    game.network.remove_random_edge()"
   ]
  },
  {
   "cell_type": "code",
   "execution_count": 17,
   "metadata": {},
   "outputs": [
    {
     "name": "stdout",
     "output_type": "stream",
     "text": [
      "array([[4, 5],\n",
      "       [5, 1],\n",
      "       [7, 0]])\n",
      "000\n",
      "{'payoff': [0.0, 0.0, 0.0],\n",
      " 'payoff_matrix': [[0.0, 0.0], [0.0, 0.0], [0.0, 0.0]],\n",
      " 'pure_nash': True}\n",
      "{'000': [0.0, 0.0, 0.0],\n",
      " '001': [1.0, 3.0, -4.0],\n",
      " '010': [0.0, -2.0, 2.0],\n",
      " '011': [1.0, 0.0, -1.0],\n",
      " '100': [-4.0, 2.0, 2.0],\n",
      " '101': [-2.0, 5.0, -3.0],\n",
      " '110': [-2.0, -2.0, 4.0],\n",
      " '111': [0.0, 0.0, 0.0]}\n"
     ]
    },
    {
     "data": {
      "text/plain": [
       "{'000': True,\n",
       " '001': False,\n",
       " '010': False,\n",
       " '011': False,\n",
       " '100': False,\n",
       " '101': False,\n",
       " '110': False,\n",
       " '111': False}"
      ]
     },
     "execution_count": 17,
     "metadata": {},
     "output_type": "execute_result"
    }
   ],
   "source": [
    "# trying out some configurations\n",
    "manager = GameManager(3)\n",
    "game_settings = {\n",
    "        \"start_populations_matrix\": manager.get_random_players(0,10),\n",
    "        \"topology\": \"fully_connected\",\n",
    "        'alpha': 1.0,\n",
    "        'log_level': \"error\"\n",
    "    }\n",
    "game = PolymatrixGame(**game_settings)\n",
    "pprint(game.state)\n",
    "game.solve()\n",
    "#game.network.remove_random_edge()\n",
    "game.print_nash()\n",
    "pprint(game.payoffs)\n",
    "game.nash_counter\n",
    "game.nash"
   ]
  },
  {
   "cell_type": "code",
   "execution_count": null,
   "metadata": {},
   "outputs": [],
   "source": [
    "# Standalone state-space plot\n",
    "graph = game.network.graph\n",
    "print(game.network.graph.edges())\n",
    "game.solve\n",
    "game.print_nash()\n",
    "game.state\n",
    "payoff_matrix = [[0.0, 0.0],\n",
    "                   [0.0, 0.0],\n",
    "                   [7.0, -3.0],\n",
    "                   [-14.0, 7.0],\n",
    "                   [7.0, -4.0],\n",
    "                   [0.0, 0.0]]\n",
    "nx.draw(graph, pos=nx.circular_layout(graph))\n",
    "nx.draw_networkx_labels(graph, pos=nx.circular_layout(graph), labels={i:f\"{i}\\n{game.state[i, :]}\\n{payoff_matrix[i]}\" for i in range(6)})\n",
    "nx.draw_networkx_nodes(graph, pos=nx.circular_layout(graph), node_color=['red','red','blue','red','blue','red'])"
   ]
  },
  {
   "cell_type": "code",
   "execution_count": 10,
   "metadata": {},
   "outputs": [
    {
     "name": "stdout",
     "output_type": "stream",
     "text": [
      "[(0, 1), (0, 2), (1, 2)]\n",
      "110\n",
      "{'payoff': [0.0, 0.0, 0.0],\n",
      " 'payoff_matrix': [[0.0, 0.0], [0.0, 0.0], [0.0, 0.0]],\n",
      " 'pure_nash': True}\n"
     ]
    },
    {
     "name": "stderr",
     "output_type": "stream",
     "text": [
      "C:\\Users\\Kinga\\Anaconda3\\lib\\site-packages\\networkx\\drawing\\nx_pylab.py:579: MatplotlibDeprecationWarning: \n",
      "The iterable function was deprecated in Matplotlib 3.1 and will be removed in 3.3. Use np.iterable instead.\n",
      "  if not cb.iterable(width):\n"
     ]
    },
    {
     "ename": "IndexError",
     "evalue": "index 3 is out of bounds for axis 0 with size 3",
     "output_type": "error",
     "traceback": [
      "\u001b[1;31m---------------------------------------------------------------------------\u001b[0m",
      "\u001b[1;31mIndexError\u001b[0m                                Traceback (most recent call last)",
      "\u001b[1;32m<ipython-input-10-af9c44e5c4f1>\u001b[0m in \u001b[0;36m<module>\u001b[1;34m\u001b[0m\n\u001b[0;32m     12\u001b[0m                    [0.0, 0.0]]\n\u001b[0;32m     13\u001b[0m \u001b[0mnx\u001b[0m\u001b[1;33m.\u001b[0m\u001b[0mdraw\u001b[0m\u001b[1;33m(\u001b[0m\u001b[0mgraph\u001b[0m\u001b[1;33m,\u001b[0m \u001b[0mpos\u001b[0m\u001b[1;33m=\u001b[0m\u001b[0mnx\u001b[0m\u001b[1;33m.\u001b[0m\u001b[0mcircular_layout\u001b[0m\u001b[1;33m(\u001b[0m\u001b[0mgraph\u001b[0m\u001b[1;33m)\u001b[0m\u001b[1;33m)\u001b[0m\u001b[1;33m\u001b[0m\u001b[1;33m\u001b[0m\u001b[0m\n\u001b[1;32m---> 14\u001b[1;33m \u001b[0mnx\u001b[0m\u001b[1;33m.\u001b[0m\u001b[0mdraw_networkx_labels\u001b[0m\u001b[1;33m(\u001b[0m\u001b[0mgraph\u001b[0m\u001b[1;33m,\u001b[0m \u001b[0mpos\u001b[0m\u001b[1;33m=\u001b[0m\u001b[0mnx\u001b[0m\u001b[1;33m.\u001b[0m\u001b[0mcircular_layout\u001b[0m\u001b[1;33m(\u001b[0m\u001b[0mgraph\u001b[0m\u001b[1;33m)\u001b[0m\u001b[1;33m,\u001b[0m \u001b[0mlabels\u001b[0m\u001b[1;33m=\u001b[0m\u001b[1;33m{\u001b[0m\u001b[0mi\u001b[0m\u001b[1;33m:\u001b[0m\u001b[1;34mf\"{i}\\n{game.state[i, :]}\\n{payoff_matrix[i]}\"\u001b[0m \u001b[1;32mfor\u001b[0m \u001b[0mi\u001b[0m \u001b[1;32min\u001b[0m \u001b[0mrange\u001b[0m\u001b[1;33m(\u001b[0m\u001b[1;36m6\u001b[0m\u001b[1;33m)\u001b[0m\u001b[1;33m}\u001b[0m\u001b[1;33m)\u001b[0m\u001b[1;33m\u001b[0m\u001b[1;33m\u001b[0m\u001b[0m\n\u001b[0m\u001b[0;32m     15\u001b[0m \u001b[0mnx\u001b[0m\u001b[1;33m.\u001b[0m\u001b[0mdraw_networkx_nodes\u001b[0m\u001b[1;33m(\u001b[0m\u001b[0mgraph\u001b[0m\u001b[1;33m,\u001b[0m \u001b[0mpos\u001b[0m\u001b[1;33m=\u001b[0m\u001b[0mnx\u001b[0m\u001b[1;33m.\u001b[0m\u001b[0mcircular_layout\u001b[0m\u001b[1;33m(\u001b[0m\u001b[0mgraph\u001b[0m\u001b[1;33m)\u001b[0m\u001b[1;33m,\u001b[0m \u001b[0mnode_color\u001b[0m\u001b[1;33m=\u001b[0m\u001b[1;33m[\u001b[0m\u001b[1;34m'red'\u001b[0m\u001b[1;33m,\u001b[0m\u001b[1;34m'red'\u001b[0m\u001b[1;33m,\u001b[0m\u001b[1;34m'blue'\u001b[0m\u001b[1;33m,\u001b[0m\u001b[1;34m'red'\u001b[0m\u001b[1;33m,\u001b[0m\u001b[1;34m'blue'\u001b[0m\u001b[1;33m,\u001b[0m\u001b[1;34m'red'\u001b[0m\u001b[1;33m]\u001b[0m\u001b[1;33m)\u001b[0m\u001b[1;33m\u001b[0m\u001b[1;33m\u001b[0m\u001b[0m\n",
      "\u001b[1;32m<ipython-input-10-af9c44e5c4f1>\u001b[0m in \u001b[0;36m<dictcomp>\u001b[1;34m(.0)\u001b[0m\n\u001b[0;32m     12\u001b[0m                    [0.0, 0.0]]\n\u001b[0;32m     13\u001b[0m \u001b[0mnx\u001b[0m\u001b[1;33m.\u001b[0m\u001b[0mdraw\u001b[0m\u001b[1;33m(\u001b[0m\u001b[0mgraph\u001b[0m\u001b[1;33m,\u001b[0m \u001b[0mpos\u001b[0m\u001b[1;33m=\u001b[0m\u001b[0mnx\u001b[0m\u001b[1;33m.\u001b[0m\u001b[0mcircular_layout\u001b[0m\u001b[1;33m(\u001b[0m\u001b[0mgraph\u001b[0m\u001b[1;33m)\u001b[0m\u001b[1;33m)\u001b[0m\u001b[1;33m\u001b[0m\u001b[1;33m\u001b[0m\u001b[0m\n\u001b[1;32m---> 14\u001b[1;33m \u001b[0mnx\u001b[0m\u001b[1;33m.\u001b[0m\u001b[0mdraw_networkx_labels\u001b[0m\u001b[1;33m(\u001b[0m\u001b[0mgraph\u001b[0m\u001b[1;33m,\u001b[0m \u001b[0mpos\u001b[0m\u001b[1;33m=\u001b[0m\u001b[0mnx\u001b[0m\u001b[1;33m.\u001b[0m\u001b[0mcircular_layout\u001b[0m\u001b[1;33m(\u001b[0m\u001b[0mgraph\u001b[0m\u001b[1;33m)\u001b[0m\u001b[1;33m,\u001b[0m \u001b[0mlabels\u001b[0m\u001b[1;33m=\u001b[0m\u001b[1;33m{\u001b[0m\u001b[0mi\u001b[0m\u001b[1;33m:\u001b[0m\u001b[1;34mf\"{i}\\n{game.state[i, :]}\\n{payoff_matrix[i]}\"\u001b[0m \u001b[1;32mfor\u001b[0m \u001b[0mi\u001b[0m \u001b[1;32min\u001b[0m \u001b[0mrange\u001b[0m\u001b[1;33m(\u001b[0m\u001b[1;36m6\u001b[0m\u001b[1;33m)\u001b[0m\u001b[1;33m}\u001b[0m\u001b[1;33m)\u001b[0m\u001b[1;33m\u001b[0m\u001b[1;33m\u001b[0m\u001b[0m\n\u001b[0m\u001b[0;32m     15\u001b[0m \u001b[0mnx\u001b[0m\u001b[1;33m.\u001b[0m\u001b[0mdraw_networkx_nodes\u001b[0m\u001b[1;33m(\u001b[0m\u001b[0mgraph\u001b[0m\u001b[1;33m,\u001b[0m \u001b[0mpos\u001b[0m\u001b[1;33m=\u001b[0m\u001b[0mnx\u001b[0m\u001b[1;33m.\u001b[0m\u001b[0mcircular_layout\u001b[0m\u001b[1;33m(\u001b[0m\u001b[0mgraph\u001b[0m\u001b[1;33m)\u001b[0m\u001b[1;33m,\u001b[0m \u001b[0mnode_color\u001b[0m\u001b[1;33m=\u001b[0m\u001b[1;33m[\u001b[0m\u001b[1;34m'red'\u001b[0m\u001b[1;33m,\u001b[0m\u001b[1;34m'red'\u001b[0m\u001b[1;33m,\u001b[0m\u001b[1;34m'blue'\u001b[0m\u001b[1;33m,\u001b[0m\u001b[1;34m'red'\u001b[0m\u001b[1;33m,\u001b[0m\u001b[1;34m'blue'\u001b[0m\u001b[1;33m,\u001b[0m\u001b[1;34m'red'\u001b[0m\u001b[1;33m]\u001b[0m\u001b[1;33m)\u001b[0m\u001b[1;33m\u001b[0m\u001b[1;33m\u001b[0m\u001b[0m\n",
      "\u001b[1;31mIndexError\u001b[0m: index 3 is out of bounds for axis 0 with size 3"
     ]
    }
   ],
   "source": [
    "# Standalone game plot\n",
    "graph = game.network.graph\n",
    "print(game.network.graph.edges())\n",
    "game.solve\n",
    "game.print_nash()\n",
    "game.state\n",
    "payoff_matrix = [[0.0, 0.0],\n",
    "                   [0.0, 0.0],\n",
    "                   [7.0, -3.0],\n",
    "                   [-14.0, 7.0],\n",
    "                   [7.0, -4.0],\n",
    "                   [0.0, 0.0]]\n",
    "nx.draw(graph, pos=nx.circular_layout(graph))\n",
    "nx.draw_networkx_labels(graph, pos=nx.circular_layout(graph), labels={i:f\"{i}\\n{game.state[i, :]}\\n{payoff_matrix[i]}\" for i in range(6)})\n",
    "nx.draw_networkx_nodes(graph, pos=nx.circular_layout(graph), node_color=['red','red','blue','red','blue','red'])"
   ]
  },
  {
   "cell_type": "code",
   "execution_count": null,
   "metadata": {},
   "outputs": [],
   "source": []
  }
 ],
 "metadata": {
  "kernelspec": {
   "display_name": "Python 3",
   "language": "python",
   "name": "python3"
  },
  "language_info": {
   "codemirror_mode": {
    "name": "ipython",
    "version": 3
   },
   "file_extension": ".py",
   "mimetype": "text/x-python",
   "name": "python",
   "nbconvert_exporter": "python",
   "pygments_lexer": "ipython3",
   "version": "3.7.3"
  }
 },
 "nbformat": 4,
 "nbformat_minor": 2
}
