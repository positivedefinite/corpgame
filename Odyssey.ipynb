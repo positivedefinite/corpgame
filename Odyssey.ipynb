{
 "cells": [
  {
   "cell_type": "code",
   "execution_count": 65,
   "metadata": {},
   "outputs": [
    {
     "name": "stdout",
     "output_type": "stream",
     "text": [
      "Bram! Who then picks: \n",
      "Maciej! Who then picks: \n",
      "Vincent! Who then picks: \n",
      "Oskar! Who then picks: \n",
      "Chris! Who then picks: \n",
      "Chang! Who then picks: \n"
     ]
    }
   ],
   "source": [
    "#200220 Matching teammates\n",
    "import random\n",
    "name_list = ['Chang','Bram','Maciej','Vincent','Chris','Oskar']\n",
    "\n",
    "while name_list!=[]:\n",
    "    picked_name = name_list.pop(random.randint(0,len(name_list)))\n",
    "    print(picked_name+'! Who then picks: ')\n",
    "\n",
    "del name_list"
   ]
  },
  {
   "cell_type": "code",
   "execution_count": 23,
   "metadata": {},
   "outputs": [
    {
     "data": {
      "text/plain": [
       "7"
      ]
     },
     "execution_count": 23,
     "metadata": {},
     "output_type": "execute_result"
    }
   ],
   "source": [
    "name_list = ['Chang','Bram','Maciej','Vincent','Chris','Oskar']\n",
    "\n",
    "def pick_one(name_list, index):\n",
    "    dictionary['0']=(index+5)%len(name_list)\n",
    "    return name_list[dictionary['0']]\n",
    "    "
   ]
  }
 ],
 "metadata": {
  "kernelspec": {
   "display_name": "Python 3",
   "language": "python",
   "name": "python3"
  },
  "language_info": {
   "codemirror_mode": {
    "name": "ipython",
    "version": 3
   },
   "file_extension": ".py",
   "mimetype": "text/x-python",
   "name": "python",
   "nbconvert_exporter": "python",
   "pygments_lexer": "ipython3",
   "version": "3.7.3"
  }
 },
 "nbformat": 4,
 "nbformat_minor": 2
}
