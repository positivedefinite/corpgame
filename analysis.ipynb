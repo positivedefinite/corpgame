{
 "cells": [
  {
   "cell_type": "code",
   "execution_count": 53,
   "metadata": {},
   "outputs": [
    {
     "name": "stdout",
     "output_type": "stream",
     "text": [
      "Once deleted, variables cannot be recovered. Proceed (y/[n])? y\n"
     ]
    },
    {
     "name": "stderr",
     "output_type": "stream",
     "text": [
      "ERROR:root:Invalid alias: The name clear can't be aliased because it is another magic command.\n",
      "ERROR:root:Invalid alias: The name more can't be aliased because it is another magic command.\n",
      "ERROR:root:Invalid alias: The name less can't be aliased because it is another magic command.\n",
      "ERROR:root:Invalid alias: The name man can't be aliased because it is another magic command.\n"
     ]
    }
   ],
   "source": [
    "%reset"
   ]
  },
  {
   "cell_type": "code",
   "execution_count": 56,
   "metadata": {},
   "outputs": [
    {
     "name": "stdout",
     "output_type": "stream",
     "text": [
      "Nash: 000  with payoff  [0, 0, 0]\n",
      "Nash: 010  with payoff  [1, 0, -1]\n",
      "Nash: 100  with payoff  [0, 0, 0]\n"
     ]
    },
    {
     "data": {
      "text/plain": [
       "{'000': [0, 0, 0],\n",
       " '001': [1, 0, -1],\n",
       " '010': [1, 0, -1],\n",
       " '011': [2, -1, -1],\n",
       " '100': [0, 0, 0],\n",
       " '101': [0, 0, 0],\n",
       " '110': [-1, 0, 1],\n",
       " '111': [0, 0, 0]}"
      ]
     },
     "execution_count": 56,
     "metadata": {},
     "output_type": "execute_result"
    }
   ],
   "source": [
    "import pandas as pd\n",
    "import numpy as np\n",
    "\n",
    "from corpgame import Game\n",
    "# create a simple mobility game\n",
    "game = Game()\n",
    "# show nash equilibria for starting conditions\n",
    "game(state=[[3, 0], [1, 2], [2, 1]])\n",
    "game.payoff\n"
   ]
  },
  {
   "cell_type": "code",
   "execution_count": 57,
   "metadata": {},
   "outputs": [
    {
     "name": "stdout",
     "output_type": "stream",
     "text": [
      "[[ 1  1 -2]\n",
      " [ 3 -2 -1]]\n",
      "[[ 0  1 -1]\n",
      " [ 1  0 -1]]\n",
      "[2.5 2.  0.5] = 5.0\n",
      "[2.5 2.  0.5] = 2.23606797749979\n",
      "[[ 1  0 -1]\n",
      " [ 2 -2  0]]\n"
     ]
    }
   ],
   "source": [
    "from sklearn.metrics import mean_squared_error\n",
    "import numpy as np\n",
    "y_true = np.array([[1,1,-2],[3,-2,-1]])\n",
    "y_pred = np.array([[0,1,-1],[1,0,-1]])\n",
    "print(y_true)\n",
    "print(y_pred)\n",
    "mse = mean_squared_error(y_true, y_pred, multioutput='raw_values')\n",
    "print(mse, '=', sum(mse))\n",
    "print(mse, '=', sum(mse)**0.5)\n",
    "print(y_true-y_pred)"
   ]
  },
  {
   "cell_type": "code",
   "execution_count": 58,
   "metadata": {},
   "outputs": [
    {
     "name": "stdout",
     "output_type": "stream",
     "text": [
      "[array([6, 4, 2]), array([5, 5, 2]), array([4, 5, 3])]\n"
     ]
    },
    {
     "data": {
      "text/plain": [
       "<matplotlib.axes._subplots.AxesSubplot at 0x7f5fc6c55e10>"
      ]
     },
     "execution_count": 58,
     "metadata": {},
     "output_type": "execute_result"
    },
    {
     "data": {
      "image/png": "[encoded data removed]",
      "text/plain": [
       "<Figure size 432x288 with 1 Axes>"
      ]
     },
     "metadata": {
      "needs_background": "light"
     },
     "output_type": "display_data"
    }
   ],
   "source": [
    "def simulate_step(\n",
    "    strategy=[1, 1, 0, 0, 0],\n",
    "    start_population=[[5, 10], [5, 5], [15, 5], [15, 5], [30, 5]]\n",
    "):\n",
    "    game = Game()\n",
    "    population = []\n",
    "    game(start_population, show_nash=False)\n",
    "    # game.print()\n",
    "    game.update_strategies(strategy)\n",
    "    game.get_state()\n",
    "    # print(s)\n",
    "    game.update_strategies(strategy)\n",
    "    game.round()\n",
    "    game.get_state()\n",
    "    state = game.state.transpose()\n",
    "    return state\n",
    "\n",
    "population = [[3, 3], [1, 2], [2, 1]]\n",
    "strategies = [[0,1,0],[0,1,0],[1,1,0]]\n",
    "population_evolution = []\n",
    "\n",
    "for strategy in strategies:\n",
    "    population = simulate_step(strategy=strategy, start_population=list(population))\n",
    "    #print(population)\n",
    "    population_evolution.append(np.sum(population, axis=1))\n",
    "print(population_evolution)\n",
    "\n",
    "pd.DataFrame(population_evolution).plot.line()"
   ]
  },
  {
   "cell_type": "code",
   "execution_count": 1,
   "metadata": {},
   "outputs": [
    {
     "name": "stdout",
     "output_type": "stream",
     "text": [
      "[[3 3 3]\n",
      " [4 3 2]\n",
      " [4 3 2]]\n"
     ]
    },
    {
     "data": {
      "text/plain": [
       "<matplotlib.axes._subplots.AxesSubplot at 0x7f20c7e29588>"
      ]
     },
     "execution_count": 1,
     "metadata": {},
     "output_type": "execute_result"
    }
   ],
   "source": [
    "from corpgame import simulate\n",
    "# simulate 10 rounds with a given strategy\n",
    "population_evolution = simulate(strategy=[0,1,0], start_population=[[3, 0], [1, 2], [2, 1]], iterations = 2)\n",
    "# plot\n",
    "print(population_evolution)\n",
    "import pandas as pd\n",
    "pd.DataFrame(population_evolution).plot.line()"
   ]
  },
  {
   "cell_type": "code",
   "execution_count": 2,
   "metadata": {},
   "outputs": [
    {
     "data": {
      "text/plain": [
       "<function corpgame.simulate(strategy=[1, 1, 0, 0, 0], start_population=[[5, 10], [5, 5], [15, 5], [15, 5], [30, 5]], iterations=10, payoff='discrete')>"
      ]
     },
     "execution_count": 2,
     "metadata": {},
     "output_type": "execute_result"
    }
   ],
   "source": [
    "simulate"
   ]
  },
  {
   "cell_type": "code",
   "execution_count": 5,
   "metadata": {},
   "outputs": [
    {
     "data": {
      "text/plain": [
       "<matplotlib.axes._subplots.AxesSubplot at 0x7f20c702de10>"
      ]
     },
     "execution_count": 5,
     "metadata": {},
     "output_type": "execute_result"
    },
    {
     "data": {
      "image/png": "[encoded data removed]",
      "text/plain": [
       "<Figure size 432x288 with 1 Axes>"
      ]
     },
     "metadata": {
      "needs_background": "light"
     },
     "output_type": "display_data"
    }
   ],
   "source": [
    "population = simulate(strategy=[0,1,0,1,0], payoff='discrete', iterations=10)\n",
    "pd.DataFrame(population).plot.line()"
   ]
  },
  {
   "cell_type": "code",
   "execution_count": 8,
   "metadata": {},
   "outputs": [
    {
     "data": {
      "text/plain": [
       "<matplotlib.axes._subplots.AxesSubplot at 0x7f20c6ea65c0>"
      ]
     },
     "execution_count": 8,
     "metadata": {},
     "output_type": "execute_result"
    },
    {
     "data": {
      "image/png": "[encoded data removed]",
      "text/plain": [
       "<Figure size 432x288 with 1 Axes>"
      ]
     },
     "metadata": {
      "needs_background": "light"
     },
     "output_type": "display_data"
    }
   ],
   "source": [
    "population = simulate(strategy=[0,1,0,1,1], payoff='fractional', iterations = 15)\n",
    "pd.DataFrame(population).plot.line()"
   ]
  },
  {
   "cell_type": "code",
   "execution_count": 9,
   "metadata": {},
   "outputs": [
    {
     "data": {
      "text/plain": [
       "<matplotlib.axes._subplots.AxesSubplot at 0x7f20c6e169e8>"
      ]
     },
     "execution_count": 9,
     "metadata": {},
     "output_type": "execute_result"
    },
    {
     "data": {
      "image/png": "[encoded data removed]",
      "text/plain": [
       "<Figure size 432x288 with 1 Axes>"
      ]
     },
     "metadata": {
      "needs_background": "light"
     },
     "output_type": "display_data"
    }
   ],
   "source": [
    "population = simulate(strategy=[0,1,0,1,1], payoff='discrete', iterations=15)\n",
    "pd.DataFrame(population).plot.line()"
   ]
  },
  {
   "cell_type": "code",
   "execution_count": 63,
   "metadata": {},
   "outputs": [
    {
     "name": "stdout",
     "output_type": "stream",
     "text": [
      "3 0.0006308555603027344\n",
      "4 0.0013704299926757812\n",
      "5 0.003821849822998047\n",
      "6 0.008131265640258789\n",
      "7 0.01761007308959961\n",
      "8 0.0362393856048584\n",
      "9 0.0799248218536377\n",
      "10 0.18798089027404785\n",
      "11 0.4237830638885498\n",
      "12 0.9643228054046631\n",
      "13 2.2558820247650146\n",
      "14 4.632696866989136\n",
      "15 10.444895267486572\n",
      "16 22.905974626541138\n"
     ]
    },
    {
     "ename": "KeyboardInterrupt",
     "evalue": "",
     "output_type": "error",
     "traceback": [
      "\u001b[0;31m---------------------------------------------------------------------------\u001b[0m",
      "\u001b[0;31mKeyboardInterrupt\u001b[0m                         Traceback (most recent call last)",
      "\u001b[0;32m<ipython-input-63-c59bc478587f>\u001b[0m in \u001b[0;36m<module>\u001b[0;34m\u001b[0m\n\u001b[1;32m      5\u001b[0m     \u001b[0mpopulation\u001b[0m \u001b[0;34m=\u001b[0m \u001b[0;34m[\u001b[0m\u001b[0;34m[\u001b[0m\u001b[0mrandom\u001b[0m\u001b[0;34m.\u001b[0m\u001b[0mrandint\u001b[0m\u001b[0;34m(\u001b[0m\u001b[0;36m0\u001b[0m\u001b[0;34m,\u001b[0m\u001b[0;36m5\u001b[0m\u001b[0;34m)\u001b[0m\u001b[0;34m,\u001b[0m\u001b[0mrandom\u001b[0m\u001b[0;34m.\u001b[0m\u001b[0mrandint\u001b[0m\u001b[0;34m(\u001b[0m\u001b[0;36m0\u001b[0m\u001b[0;34m,\u001b[0m\u001b[0;36m5\u001b[0m\u001b[0;34m)\u001b[0m\u001b[0;34m]\u001b[0m \u001b[0;32mfor\u001b[0m \u001b[0mi\u001b[0m \u001b[0;32min\u001b[0m \u001b[0mrange\u001b[0m\u001b[0;34m(\u001b[0m\u001b[0;36m0\u001b[0m\u001b[0;34m,\u001b[0m \u001b[0msize\u001b[0m\u001b[0;34m)\u001b[0m\u001b[0;34m]\u001b[0m\u001b[0;34m\u001b[0m\u001b[0;34m\u001b[0m\u001b[0m\n\u001b[1;32m      6\u001b[0m     \u001b[0mgame\u001b[0m \u001b[0;34m=\u001b[0m \u001b[0mGame\u001b[0m\u001b[0;34m(\u001b[0m\u001b[0;34m)\u001b[0m\u001b[0;34m\u001b[0m\u001b[0;34m\u001b[0m\u001b[0m\n\u001b[0;32m----> 7\u001b[0;31m     \u001b[0mgame\u001b[0m\u001b[0;34m(\u001b[0m\u001b[0mpopulation\u001b[0m\u001b[0;34m,\u001b[0m \u001b[0mshow_nash\u001b[0m\u001b[0;34m=\u001b[0m\u001b[0;32mFalse\u001b[0m\u001b[0;34m)\u001b[0m\u001b[0;34m\u001b[0m\u001b[0;34m\u001b[0m\u001b[0m\n\u001b[0m\u001b[1;32m      8\u001b[0m     \u001b[0mend\u001b[0m \u001b[0;34m=\u001b[0m \u001b[0mtime\u001b[0m\u001b[0;34m.\u001b[0m\u001b[0mtime\u001b[0m\u001b[0;34m(\u001b[0m\u001b[0;34m)\u001b[0m\u001b[0;34m-\u001b[0m\u001b[0mstart\u001b[0m\u001b[0;34m\u001b[0m\u001b[0;34m\u001b[0m\u001b[0m\n\u001b[1;32m      9\u001b[0m     \u001b[0mprint\u001b[0m\u001b[0;34m(\u001b[0m\u001b[0msize\u001b[0m\u001b[0;34m,\u001b[0m \u001b[0mend\u001b[0m\u001b[0;34m)\u001b[0m\u001b[0;34m\u001b[0m\u001b[0;34m\u001b[0m\u001b[0m\n",
      "\u001b[0;32m~/kernel/thesis/code/corpgame/corpgame.py\u001b[0m in \u001b[0;36m__call__\u001b[0;34m(self, state, show_nash)\u001b[0m\n\u001b[1;32m    176\u001b[0m \u001b[0;34m\u001b[0m\u001b[0m\n\u001b[1;32m    177\u001b[0m     \u001b[0;32mdef\u001b[0m \u001b[0mget_payoffs\u001b[0m\u001b[0;34m(\u001b[0m\u001b[0mself\u001b[0m\u001b[0;34m)\u001b[0m\u001b[0;34m:\u001b[0m\u001b[0;34m\u001b[0m\u001b[0;34m\u001b[0m\u001b[0m\n\u001b[0;32m--> 178\u001b[0;31m         \u001b[0mself\u001b[0m\u001b[0;34m.\u001b[0m\u001b[0mget_state\u001b[0m\u001b[0;34m(\u001b[0m\u001b[0;34m)\u001b[0m\u001b[0;34m\u001b[0m\u001b[0;34m\u001b[0m\u001b[0m\n\u001b[0m\u001b[1;32m    179\u001b[0m         \u001b[0mbase_state\u001b[0m \u001b[0;34m=\u001b[0m \u001b[0mself\u001b[0m\u001b[0;34m.\u001b[0m\u001b[0mstate\u001b[0m\u001b[0;34m.\u001b[0m\u001b[0mcopy\u001b[0m\u001b[0;34m(\u001b[0m\u001b[0;34m)\u001b[0m\u001b[0;34m\u001b[0m\u001b[0;34m\u001b[0m\u001b[0m\n\u001b[1;32m    180\u001b[0m         \u001b[0mnumber_of_players\u001b[0m \u001b[0;34m=\u001b[0m \u001b[0mlen\u001b[0m\u001b[0;34m(\u001b[0m\u001b[0mself\u001b[0m\u001b[0;34m.\u001b[0m\u001b[0mplayers\u001b[0m\u001b[0;34m)\u001b[0m\u001b[0;34m\u001b[0m\u001b[0;34m\u001b[0m\u001b[0m\n",
      "\u001b[0;32m~/kernel/thesis/code/corpgame/corpgame.py\u001b[0m in \u001b[0;36mget_payoffs\u001b[0;34m(self)\u001b[0m\n\u001b[1;32m    143\u001b[0m         \u001b[0;32mreturn\u001b[0m \u001b[0mpolicy\u001b[0m\u001b[0;34m\u001b[0m\u001b[0;34m\u001b[0m\u001b[0m\n\u001b[1;32m    144\u001b[0m \u001b[0;34m\u001b[0m\u001b[0m\n\u001b[0;32m--> 145\u001b[0;31m     \u001b[0;32mdef\u001b[0m \u001b[0mround_fractional\u001b[0m\u001b[0;34m(\u001b[0m\u001b[0mself\u001b[0m\u001b[0;34m,\u001b[0m \u001b[0mroundoff\u001b[0m\u001b[0;34m=\u001b[0m\u001b[0;32mFalse\u001b[0m\u001b[0;34m)\u001b[0m\u001b[0;34m:\u001b[0m\u001b[0;34m\u001b[0m\u001b[0;34m\u001b[0m\u001b[0m\n\u001b[0m\u001b[1;32m    146\u001b[0m         \"\"\"\n\u001b[1;32m    147\u001b[0m         \u001b[0mOne\u001b[0m \u001b[0mround\u001b[0m \u001b[0mof\u001b[0m \u001b[0mpayoff\u001b[0m \u001b[0musing\u001b[0m \u001b[0mfractional\u001b[0m \u001b[0mpairwise\u001b[0m \u001b[0massignment\u001b[0m \u001b[0mon\u001b[0m \u001b[0mobjects\u001b[0m\u001b[0;34m\u001b[0m\u001b[0;34m\u001b[0m\u001b[0m\n",
      "\u001b[0;32m~/kernel/thesis/code/corpgame/corpgame.py\u001b[0m in \u001b[0;36mround\u001b[0;34m(self)\u001b[0m\n\u001b[1;32m    101\u001b[0m         \"\"\"\n\u001b[1;32m    102\u001b[0m         \u001b[0mOne\u001b[0m \u001b[0mround\u001b[0m \u001b[0mof\u001b[0m \u001b[0mpayoff\u001b[0m \u001b[0musing\u001b[0m \u001b[0msimple\u001b[0m \u001b[0massignment\u001b[0m \u001b[0mrule\u001b[0m\u001b[0;34m\u001b[0m\u001b[0;34m\u001b[0m\u001b[0m\n\u001b[0;32m--> 103\u001b[0;31m         \"\"\"\n\u001b[0m\u001b[1;32m    104\u001b[0m         \u001b[0;32mfor\u001b[0m \u001b[0mi\u001b[0m \u001b[0;32min\u001b[0m \u001b[0mrange\u001b[0m\u001b[0;34m(\u001b[0m\u001b[0mlen\u001b[0m\u001b[0;34m(\u001b[0m\u001b[0mself\u001b[0m\u001b[0;34m.\u001b[0m\u001b[0mplayers\u001b[0m\u001b[0;34m)\u001b[0m\u001b[0;34m)\u001b[0m\u001b[0;34m:\u001b[0m\u001b[0;34m\u001b[0m\u001b[0;34m\u001b[0m\u001b[0m\n\u001b[1;32m    105\u001b[0m             \u001b[0mp1\u001b[0m \u001b[0;34m=\u001b[0m \u001b[0mself\u001b[0m\u001b[0;34m.\u001b[0m\u001b[0mplayers\u001b[0m\u001b[0;34m[\u001b[0m\u001b[0mi\u001b[0m\u001b[0;34m]\u001b[0m\u001b[0;34m\u001b[0m\u001b[0;34m\u001b[0m\u001b[0m\n",
      "\u001b[0;31mKeyboardInterrupt\u001b[0m: "
     ]
    }
   ],
   "source": [
    "# time execution iteratively by number of players\n",
    "import random, time\n",
    "for size in range(3, 100):\n",
    "    start = time.time()\n",
    "    population = [[random.randint(0,5),random.randint(0,5)] for i in range(0, size)]\n",
    "    game = Game()\n",
    "    game(population, show_nash=False)\n",
    "    end = time.time()-start\n",
    "    print(size, end)"
   ]
  },
  {
   "cell_type": "code",
   "execution_count": 108,
   "metadata": {},
   "outputs": [
    {
     "name": "stdout",
     "output_type": "stream",
     "text": [
      "[[3, 0], [1, 2], [2, 1], [0, 0]]\n",
      "[[3, 0], [1, 2], [2, 1], [0, 0]]\n",
      "[[3, 0], [1, 2], [2, 1], [0, 0]]\n",
      "[[3, 0], [1, 2], [2, 1], [0, 0]]\n",
      "[[3, 0], [1, 2], [2, 1], [0, 0]]\n",
      "[[3, 0], [1, 2], [2, 1], [0, 0]]\n",
      "[[3, 0], [1, 2], [2, 1], [0, 0]]\n",
      "[[3, 0], [1, 2], [2, 1], [0, 0]]\n",
      "[[3, 0], [1, 2], [2, 1], [0, 0]]\n",
      "[[3, 0], [1, 2], [2, 1], [0, 0]]\n",
      "[[3, 0], [1, 2], [2, 1], [0, 0]]\n",
      "[[3, 0], [1, 2], [2, 1], [0, 0]]\n",
      "[[3, 0], [1, 2], [2, 1], [0, 0]]\n",
      "[[3, 0], [1, 2], [2, 1], [0, 0]]\n",
      "[[3, 0], [1, 2], [2, 1], [0, 0]]\n",
      "[[3, 0], [1, 2], [2, 1], [0, 0]]\n",
      "payoff {'0000': [0, 0, 0, 0], '0001': [0, -1, -1, 2], '0010': [1, 0, -1, 0], '0011': [1, -1, -1, 1], '0100': [1, 0, -1, 0], '0101': [1, 0, -1, 0], '0110': [2, -1, -2, 1], '0111': [2, -1, -1, 0], '1000': [-1, 0, 0, 1], '1001': [0, -1, 0, 1], '1010': [-1, 0, -1, 2], '1011': [0, 0, 0, 0], '1100': [-2, 0, 1, 1], '1101': [-1, 0, 1, 0], '1110': [-1, -1, -1, 3], '1111': [0, 0, 0, 0]}\n",
      "nash {'0000': False, '0001': False, '0010': False, '0011': True, '0100': True, '0101': True, '0110': False, '0111': False, '1000': False, '1001': False, '1010': False, '1011': False, '1100': False, '1101': False, '1110': False, '1111': False}\n"
     ]
    }
   ],
   "source": [
    "game = Game()\n",
    "game.player_generator([[3,0],[1,2],[2,1],[0,0]])\n",
    "#game.update_strategies([0,1,1,1])\n",
    "game.get_payoffs()\n",
    "print('payoff', game.payoff)\n",
    "game.get_state()\n",
    "#print('state', game.state)\n",
    "game.get_nash()\n",
    "print('nash', game.nash)\n"
   ]
  },
  {
   "cell_type": "code",
   "execution_count": 96,
   "metadata": {},
   "outputs": [
    {
     "name": "stdout",
     "output_type": "stream",
     "text": [
      "Player  0 [5, 0]  score  5\n",
      "Player  1 [0, 2]  score  2\n",
      "Player  2 [1, 1]  score  2\n",
      "\n",
      "\n",
      "Player  0 [6, 0]  score  6\n",
      "Player  1 [0, 2]  score  2\n",
      "Player  2 [0, 1]  score  1\n",
      "\n",
      "\n",
      "Player  0 [6, 0]  score  6\n",
      "Player  1 [0, 2]  score  2\n",
      "Player  2 [0, 1]  score  1\n",
      "\n",
      "\n",
      "CPU times: user 1.26 ms, sys: 0 ns, total: 1.26 ms\n",
      "Wall time: 847 µs\n"
     ]
    }
   ],
   "source": [
    "%%time\n",
    "log.setLevel(logging.DEBUG)\n",
    "game = Game()\n",
    "game.player_generator()\n",
    "game.update_strategies([0,1,1])\n",
    "for i in range(0,3):\n",
    "    game.round()\n",
    "    game.print()\n",
    "    print('\\n')"
   ]
  },
  {
   "cell_type": "code",
   "execution_count": 57,
   "metadata": {},
   "outputs": [
    {
     "name": "stderr",
     "output_type": "stream",
     "text": [
      "DEBUG:root:Created player object with population [3, 0] under index 0\n",
      "DEBUG:root:Created player object with population [1, 2] under index 1\n",
      "DEBUG:root:Created player object with population [2, 1] under index 2\n",
      "DEBUG:root:Created player object with population [3, 0] under index 0\n",
      "DEBUG:root:Created player object with population [1, 2] under index 1\n",
      "DEBUG:root:Created player object with population [2, 1] under index 2\n",
      "DEBUG:root:Created player object with population [3, 0] under index 0\n",
      "DEBUG:root:Created player object with population [1, 2] under index 1\n",
      "DEBUG:root:Created player object with population [2, 1] under index 2\n",
      "DEBUG:root:Created player object with population [3, 0] under index 0\n",
      "DEBUG:root:Created player object with population [1, 2] under index 1\n",
      "DEBUG:root:Created player object with population [2, 1] under index 2\n",
      "DEBUG:root:Created player object with population [3, 0] under index 0\n",
      "DEBUG:root:Created player object with population [1, 2] under index 1\n",
      "DEBUG:root:Created player object with population [2, 1] under index 2\n",
      "DEBUG:root:Created player object with population [3, 0] under index 0\n",
      "DEBUG:root:Created player object with population [1, 2] under index 1\n",
      "DEBUG:root:Created player object with population [2, 1] under index 2\n",
      "DEBUG:root:Created player object with population [3, 0] under index 0\n",
      "DEBUG:root:Created player object with population [1, 2] under index 1\n",
      "DEBUG:root:Created player object with population [2, 1] under index 2\n",
      "DEBUG:root:Created player object with population [3, 0] under index 0\n",
      "DEBUG:root:Created player object with population [1, 2] under index 1\n",
      "DEBUG:root:Created player object with population [2, 1] under index 2\n"
     ]
    },
    {
     "name": "stdout",
     "output_type": "stream",
     "text": [
      "[0, 0, 0]\n",
      "0 [3, 0] 3\n",
      "1 [1, 2] 3\n",
      "2 [2, 1] 3\n",
      "\n",
      "\n",
      "[0, 0, 1]\n",
      "0 [4, 0] 4\n",
      "1 [2, 1] 3\n",
      "2 [0, 2] 2\n",
      "\n",
      "\n",
      "[0, 1, 0]\n",
      "0 [4, 0] 4\n",
      "1 [0, 3] 3\n",
      "2 [2, 0] 2\n",
      "\n",
      "\n",
      "[0, 1, 1]\n",
      "0 [5, 0] 5\n",
      "1 [0, 2] 2\n",
      "2 [1, 1] 2\n",
      "\n",
      "\n",
      "[1, 0, 0]\n",
      "0 [1, 2] 3\n",
      "1 [2, 1] 3\n",
      "2 [3, 0] 3\n",
      "\n",
      "\n",
      "[1, 0, 1]\n",
      "0 [2, 1] 3\n",
      "1 [3, 0] 3\n",
      "2 [1, 2] 3\n",
      "\n",
      "\n",
      "[1, 1, 0]\n",
      "0 [2, 0] 2\n",
      "1 [0, 3] 3\n",
      "2 [4, 0] 4\n",
      "\n",
      "\n",
      "[1, 1, 1]\n",
      "0 [3, 0] 3\n",
      "1 [1, 2] 3\n",
      "2 [2, 1] 3\n",
      "\n",
      "\n"
     ]
    }
   ],
   "source": [
    "# toy example\n",
    "player = 0\n",
    "populations = [[3,0],[1,2],[2,1]]\n",
    "strategies = all_binary_strategies(length=3)\n",
    "for strategy in strategies:\n",
    "    game = Game()\n",
    "    game.player_generator(populations)\n",
    "    game.update_strategies(strategy)\n",
    "    for i in range(0,1):\n",
    "        game.round()\n",
    "    print(strategy)\n",
    "    for c in game.players:\n",
    "        print(c.index, c.company, sum(c.company))\n",
    "    score = sum(game.players[player].company)\n",
    "    print('\\n')"
   ]
  },
  {
   "cell_type": "code",
   "execution_count": 66,
   "metadata": {},
   "outputs": [
    {
     "name": "stderr",
     "output_type": "stream",
     "text": [
      "DEBUG:root:Created player object with population [5, 10] under index 0\n",
      "DEBUG:root:Created player object with population [5, 5] under index 1\n",
      "DEBUG:root:Created player object with population [15, 5] under index 2\n",
      "DEBUG:root:Created player object with population [15, 5] under index 3\n",
      "DEBUG:root:Created player object with population [30, 5] under index 4\n"
     ]
    },
    {
     "name": "stdout",
     "output_type": "stream",
     "text": [
      "Player  0 [5, 10]  score  15\n",
      "Player  1 [5, 5]  score  10\n",
      "Player  2 [15, 5]  score  20\n",
      "Player  3 [15, 5]  score  20\n",
      "Player  4 [30, 5]  score  35\n",
      "\n",
      "\n",
      "Player  0 [2, 13]  score  15\n",
      "Player  1 [2, 8]  score  10\n",
      "Player  2 [17, 3]  score  20\n",
      "Player  3 [17, 3]  score  20\n",
      "Player  4 [32, 3]  score  35\n",
      "\n",
      "\n",
      "Player  0 [0, 16]  score  16\n",
      "Player  1 [0, 11]  score  11\n",
      "Player  2 [19, 1]  score  20\n",
      "Player  3 [17, 1]  score  18\n",
      "Player  4 [34, 1]  score  35\n",
      "\n",
      "\n",
      "Player  0 [0, 19]  score  19\n",
      "Player  1 [0, 11]  score  11\n",
      "Player  2 [19, 0]  score  19\n",
      "Player  3 [17, 0]  score  17\n",
      "Player  4 [34, 0]  score  34\n",
      "\n",
      "\n",
      "Player  0 [0, 19]  score  19\n",
      "Player  1 [0, 11]  score  11\n",
      "Player  2 [19, 0]  score  19\n",
      "Player  3 [17, 0]  score  17\n",
      "Player  4 [34, 0]  score  34\n",
      "\n",
      "\n",
      "Player  0 [0, 19]  score  19\n",
      "Player  1 [0, 11]  score  11\n",
      "Player  2 [19, 0]  score  19\n",
      "Player  3 [17, 0]  score  17\n",
      "Player  4 [34, 0]  score  34\n",
      "\n",
      "\n"
     ]
    }
   ],
   "source": [
    "# test example\n",
    "player = 0\n",
    "populations = [[5,10],[5,5],[15,5],[15,5],[30,5]]\n",
    "\n",
    "game = Game()\n",
    "game.player_generator(populations)\n",
    "game.update_strategies([1,1,0,0,0])\n",
    "game.print()\n",
    "print('\\n')\n",
    "for i in range(5):\n",
    "    game.round()\n",
    "    game.print()\n",
    "    print('\\n')"
   ]
  },
  {
   "cell_type": "code",
   "execution_count": 211,
   "metadata": {},
   "outputs": [],
   "source": [
    "def final_states(seed = [[1,2],[3,1],[4,0]]):\n",
    "    from itertools import product\n",
    "    for player in range(len(seed)):\n",
    "        scores = []\n",
    "        print(player)\n",
    "        for branch in [0,1]:\n",
    "            strategies = []\n",
    "            dummies = list(product(range(2), repeat=len(seed)-1))\n",
    "            for i in range(0,len(seed)+1):\n",
    "                strategy = []\n",
    "                dummy = list(dummies[i])\n",
    "                for j in range(0,len(seed)):\n",
    "                    k=0\n",
    "                    if j==player:\n",
    "                        strategy.append(branch)\n",
    "                    else:\n",
    "                        popped = dummy.pop(k)\n",
    "                        strategy.append(popped)\n",
    "                        k=k+1\n",
    "                strategies.append(strategy)\n",
    "            print(strategies)\n",
    "            score = 0\n",
    "            for strategy in strategies:\n",
    "                game = Game()\n",
    "                game.player_generator(seed)\n",
    "                game.update_strategies(strategy)\n",
    "                for i in range(0,100):\n",
    "                    game.round()\n",
    "                score += sum(game.players[player].company)\n",
    "            scores.append(score)\n",
    "            print(score)\n",
    "        print(scores)\n",
    "        print('\\n')"
   ]
  },
  {
   "cell_type": "code",
   "execution_count": 212,
   "metadata": {},
   "outputs": [
    {
     "name": "stdout",
     "output_type": "stream",
     "text": [
      "0\n",
      "[[0, 0, 0, 0, 0], [0, 0, 0, 0, 1], [0, 0, 0, 1, 0], [0, 0, 0, 1, 1], [0, 0, 1, 0, 0], [0, 0, 1, 0, 1]]\n",
      "10\n",
      "[[1, 0, 0, 0, 0], [1, 0, 0, 0, 1], [1, 0, 0, 1, 0], [1, 0, 0, 1, 1], [1, 0, 1, 0, 0], [1, 0, 1, 0, 1]]\n",
      "26\n",
      "[10, 26]\n",
      "\n",
      "\n",
      "1\n",
      "[[0, 0, 0, 0, 0], [0, 0, 0, 0, 1], [0, 0, 0, 1, 0], [0, 0, 0, 1, 1], [0, 0, 1, 0, 0], [0, 0, 1, 0, 1]]\n",
      "23\n",
      "[[0, 1, 0, 0, 0], [0, 1, 0, 0, 1], [0, 1, 0, 1, 0], [0, 1, 0, 1, 1], [0, 1, 1, 0, 0], [0, 1, 1, 0, 1]]\n",
      "24\n",
      "[23, 24]\n",
      "\n",
      "\n",
      "2\n",
      "[[0, 0, 0, 0, 0], [0, 0, 0, 0, 1], [0, 0, 0, 1, 0], [0, 0, 0, 1, 1], [0, 1, 0, 0, 0], [0, 1, 0, 0, 1]]\n",
      "31\n",
      "[[0, 0, 1, 0, 0], [0, 0, 1, 0, 1], [0, 0, 1, 1, 0], [0, 0, 1, 1, 1], [0, 1, 1, 0, 0], [0, 1, 1, 0, 1]]\n",
      "18\n",
      "[31, 18]\n",
      "\n",
      "\n",
      "3\n",
      "[[0, 0, 0, 0, 0], [0, 0, 0, 0, 1], [0, 0, 1, 0, 0], [0, 0, 1, 0, 1], [0, 1, 0, 0, 0], [0, 1, 0, 0, 1]]\n",
      "9\n",
      "[[0, 0, 0, 1, 0], [0, 0, 0, 1, 1], [0, 0, 1, 1, 0], [0, 0, 1, 1, 1], [0, 1, 0, 1, 0], [0, 1, 0, 1, 1]]\n",
      "15\n",
      "[9, 15]\n",
      "\n",
      "\n",
      "4\n",
      "[[0, 0, 0, 0, 0], [0, 0, 0, 1, 0], [0, 0, 1, 0, 0], [0, 0, 1, 1, 0], [0, 1, 0, 0, 0], [0, 1, 0, 1, 0]]\n",
      "15\n",
      "[[0, 0, 0, 0, 1], [0, 0, 0, 1, 1], [0, 0, 1, 0, 1], [0, 0, 1, 1, 1], [0, 1, 0, 0, 1], [0, 1, 0, 1, 1]]\n",
      "41\n",
      "[15, 41]\n",
      "\n",
      "\n"
     ]
    }
   ],
   "source": [
    "final_states([[1,2],[3,1],[4,0],[1,0],[1,5]])"
   ]
  },
  {
   "cell_type": "code",
   "execution_count": 220,
   "metadata": {},
   "outputs": [
    {
     "name": "stdout",
     "output_type": "stream",
     "text": [
      "Player  0 [1, 2]  score  3\n",
      "Player  1 [3, 1]  score  4\n",
      "Player  2 [4, 0]  score  4\n",
      "Player  3 [1, 0]  score  1\n",
      "Player  4 [1, 5]  score  6\n",
      "\n",
      "\n",
      "[1, 0, 0, 0, 1]\n",
      "Player  0 [0, 2]  score  2\n",
      "Player  1 [3, 0]  score  3\n",
      "Player  2 [6, 0]  score  6\n",
      "Player  3 [1, 0]  score  1\n",
      "Player  4 [0, 6]  score  6\n",
      "\n",
      "\n",
      "[0, 0, 0, 0, 1]\n",
      "Player  0 [1, 0]  score  1\n",
      "Player  1 [3, 0]  score  3\n",
      "Player  2 [5, 0]  score  5\n",
      "Player  3 [1, 0]  score  1\n",
      "Player  4 [0, 8]  score  8\n",
      "\n",
      "\n",
      "[1, 1, 0, 0, 1]\n",
      "Player  0 [0, 2]  score  2\n",
      "Player  1 [0, 1]  score  1\n",
      "Player  2 [8, 0]  score  8\n",
      "Player  3 [2, 0]  score  2\n",
      "Player  4 [0, 5]  score  5\n",
      "\n",
      "\n",
      "[1, 0, 1, 0, 1]\n",
      "Player  0 [0, 2]  score  2\n",
      "Player  1 [7, 0]  score  7\n",
      "Player  2 [0, 0]  score  0\n",
      "Player  3 [3, 0]  score  3\n",
      "Player  4 [0, 6]  score  6\n",
      "\n",
      "\n",
      "[1, 0, 0, 1, 1]\n",
      "Player  0 [0, 2]  score  2\n",
      "Player  1 [3, 0]  score  3\n",
      "Player  2 [7, 0]  score  7\n",
      "Player  3 [0, 0]  score  0\n",
      "Player  4 [0, 6]  score  6\n",
      "\n",
      "\n",
      "[1, 0, 0, 0, 0]\n",
      "Player  0 [0, 8]  score  8\n",
      "Player  1 [3, 0]  score  3\n",
      "Player  2 [5, 0]  score  5\n",
      "Player  3 [1, 0]  score  1\n",
      "Player  4 [1, 0]  score  1\n",
      "\n",
      "\n"
     ]
    }
   ],
   "source": [
    "game = Game()\n",
    "game.player_generator([[1,2],[3,1],[4,0],[1,0],[1,5]])\n",
    "game.print()\n",
    "print('\\n')\n",
    "strategies = [[1,0,0,0,1],[0,0,0,0,1],[1,1,0,0,1],[1,0,1,0,1],[1,0,0,1,1],[1,0,0,0,0]]\n",
    "\n",
    "for strategy in strategies:\n",
    "    game = Game()\n",
    "    game.player_generator([[1,2],[3,1],[4,0],[1,0],[1,5]])\n",
    "    game.update_strategies(strategy)\n",
    "    #game.print()\n",
    "    #print('\\n')\n",
    "    print(strategy)\n",
    "    for i in range(0,10):\n",
    "        game.round()\n",
    "    game.print()\n",
    "    print('\\n')"
   ]
  },
  {
   "cell_type": "code",
   "execution_count": null,
   "metadata": {},
   "outputs": [],
   "source": []
  },
  {
   "cell_type": "code",
   "execution_count": null,
   "metadata": {},
   "outputs": [],
   "source": []
  }
 ],
 "metadata": {
  "kernelspec": {
   "display_name": "Python 3",
   "language": "python",
   "name": "python3"
  },
  "language_info": {
   "codemirror_mode": {
    "name": "ipython",
    "version": 3
   },
   "file_extension": ".py",
   "mimetype": "text/x-python",
   "name": "python",
   "nbconvert_exporter": "python",
   "pygments_lexer": "ipython3",
   "version": "3.7.3"
  }
 },
 "nbformat": 4,
 "nbformat_minor": 2
}
